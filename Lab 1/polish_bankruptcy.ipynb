{
 "cells": [
  {
   "cell_type": "markdown",
   "metadata": {
    "colab_type": "text",
    "id": "PoZ2wI2KoECG"
   },
   "source": [
    "# Team Info\n",
    "\n",
    "- Members:\n",
    "  - Antoniadis Panagiotis - 03115009\n",
    "  - Masouris Athanasios - 03115189\n",
    "  - Bazotis Nikolaos - 03115739"
   ]
  },
  {
   "cell_type": "markdown",
   "metadata": {
    "colab_type": "text",
    "id": "xc_QxxSlyhKm"
   },
   "source": [
    "# Importing necessary libraries"
   ]
  },
  {
   "cell_type": "code",
   "execution_count": 0,
   "metadata": {
    "colab": {
     "base_uri": "https://localhost:8080/",
     "height": 73
    },
    "colab_type": "code",
    "id": "NGbaVrThn4Or",
    "outputId": "ac3c6db4-2bf2-4941-f1de-3f7006da4ff6"
   },
   "outputs": [
    {
     "name": "stderr",
     "output_type": "stream",
     "text": [
      "/usr/local/lib/python3.6/dist-packages/sklearn/externals/six.py:31: DeprecationWarning: The module is deprecated in version 0.21 and will be removed in version 0.23 since we've dropped support for Python 2.7. Please rely on the official version of six (https://pypi.org/project/six/).\n",
      "  \"(https://pypi.org/project/six/).\", DeprecationWarning)\n"
     ]
    }
   ],
   "source": [
    "from google.colab import files\n",
    "import matplotlib.pyplot as plt\n",
    "import numpy as np\n",
    "from scipy.io import arff\n",
    "import time\n",
    "\n",
    "# pandas\n",
    "import pandas as pd\n",
    "from pandas.api.types import is_numeric_dtype\n",
    "\n",
    "# imblearn\n",
    "from imblearn.over_sampling import RandomOverSampler\n",
    "from imblearn.under_sampling import RandomUnderSampler\n",
    "from imblearn.pipeline import Pipeline\n",
    "\n",
    "# sklearn\n",
    "from sklearn.model_selection import train_test_split\n",
    "from sklearn.preprocessing import Imputer\n",
    "from sklearn.model_selection import GridSearchCV\n",
    "from sklearn.feature_selection import VarianceThreshold\n",
    "from sklearn.preprocessing import StandardScaler \n",
    "from sklearn.decomposition import PCA\n",
    "from sklearn.dummy import DummyClassifier\n",
    "from sklearn.metrics import confusion_matrix\n",
    "from sklearn.metrics import f1_score\n",
    "from sklearn.metrics import classification_report\n",
    "from sklearn.neighbors import KNeighborsClassifier\n",
    "from sklearn.neural_network import MLPClassifier\n",
    "from sklearn.naive_bayes import GaussianNB\n",
    "from sklearn.metrics import accuracy_score\n",
    "from sklearn.model_selection import GridSearchCV\n",
    "\n",
    "\n",
    "# Define parameters of figures\n",
    "plt.rcParams['figure.figsize'] = 10 , 10\n",
    "plt.rcParams['text.color'] = \"white\"\n",
    "plt.rcParams['xtick.color'] = \"white\"\n",
    "plt.rcParams['ytick.color'] = \"white\"\n",
    "\n",
    "import warnings\n",
    "warnings.filterwarnings(\"ignore\")\n",
    "\n",
    "import pickle"
   ]
  },
  {
   "cell_type": "markdown",
   "metadata": {
    "colab_type": "text",
    "id": "3I_OX9hChwQV"
   },
   "source": [
    "# Dataset Analysis"
   ]
  },
  {
   "cell_type": "markdown",
   "metadata": {
    "colab_type": "text",
    "id": "kq6vufUjz_Zp"
   },
   "source": [
    "![UCI ML Logo](http://archive.ics.uci.edu/ml/assets/logo.gif \"UCI Machine Learning Repository\")\n",
    "\n",
    "In this project we will use the [Polish companies bankruptcy data](http://archive.ics.uci.edu/ml/datasets/Polish+companies+bankruptcy+data) from the UCI Machine Learning Repository. It contains data about bankruptcy prediction of Polish companies. The data was collected from Emerging Markets Information Service (EMIS), which is a database containing information on emerging markets around the world. The bankrupt companies were analyzed in the period 2000-2012, while the still operating companies were evaluated from 2007 to 2013. It includes 5 cases where each demonstrate samples of bankrupty  and contains some instances that represents bankrupted companies and other firms that did not bankrupt in the forecasting period. \n",
    "- 1st Year --> Bankrupt after 5 years (7027 instances)\n",
    "- 2st Year --> Bankrupt after 4 years (10173 instances)\n",
    "- 3st Year --> Bankrupt after 3 years (10503 instances)\n",
    "- 4st Year --> Bankrupt after 2 years (9792 instances)\n",
    "- 5st Year --> Bankrupt after 1 years (5910  instances)\n",
    "\n",
    "Usually, this dataset is analyzed as a 5-case binary classification problem, since the labels in each case semantically differ. However, in this notebook we will concatenate the above 5 cases in one and the problem will be converted in a simple binary classification problem."
   ]
  },
  {
   "cell_type": "markdown",
   "metadata": {
    "colab_type": "text",
    "id": "I6cntFHi5FYK"
   },
   "source": [
    "## Loading the Data\n"
   ]
  },
  {
   "cell_type": "code",
   "execution_count": 0,
   "metadata": {
    "colab": {
     "base_uri": "https://localhost:8080/",
     "height": 305,
     "resources": {
      "http://localhost:8080/nbextensions/google.colab/files.js": {
       "data": "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",
       "headers": [
        [
         "content-type",
         "application/javascript"
        ]
       ],
       "ok": true,
       "status": 200,
       "status_text": ""
      }
     }
    },
    "colab_type": "code",
    "id": "70KDACKq5EpG",
    "outputId": "9bad38c3-1daf-4390-de70-8cac63b50069"
   },
   "outputs": [
    {
     "data": {
      "text/html": [
       "\n",
       "     <input type=\"file\" id=\"files-76f89bb9-34e2-4cd3-b6f2-253967ff5ad8\" name=\"files[]\" multiple disabled />\n",
       "     <output id=\"result-76f89bb9-34e2-4cd3-b6f2-253967ff5ad8\">\n",
       "      Upload widget is only available when the cell has been executed in the\n",
       "      current browser session. Please rerun this cell to enable.\n",
       "      </output>\n",
       "      <script src=\"/nbextensions/google.colab/files.js\"></script> "
      ],
      "text/plain": [
       "<IPython.core.display.HTML object>"
      ]
     },
     "metadata": {
      "tags": []
     },
     "output_type": "display_data"
    },
    {
     "name": "stdout",
     "output_type": "stream",
     "text": [
      "Saving 5year.arff to 5year.arff\n",
      "Saving 4year.arff to 4year.arff\n",
      "Saving 3year.arff to 3year.arff\n",
      "Saving 2year.arff to 2year.arff\n",
      "Saving 1year.arff to 1year.arff\n",
      "User uploaded file \"5year.arff\" with length 2899490 bytes\n",
      "User uploaded file \"4year.arff\" with length 4829865 bytes\n",
      "User uploaded file \"3year.arff\" with length 5169674 bytes\n",
      "User uploaded file \"2year.arff\" with length 4987459 bytes\n",
      "User uploaded file \"1year.arff\" with length 3432892 bytes\n"
     ]
    }
   ],
   "source": [
    "#Uploading the data file\n",
    "uploaded = files.upload()\n",
    "\n",
    "for fn in uploaded.keys():\n",
    "  print('User uploaded file \"{name}\" with length {length} bytes'.format(\n",
    "      name=fn, length=len(uploaded[fn])))"
   ]
  },
  {
   "cell_type": "code",
   "execution_count": 0,
   "metadata": {
    "colab": {},
    "colab_type": "code",
    "id": "sfmd24Cj8H-X"
   },
   "outputs": [],
   "source": [
    "# Read the 5 arff files and keep them\n",
    "# in a list as dataframes.\n",
    "dfs = []\n",
    "for i in range(5):\n",
    "  data_arff = arff.loadarff(str(i+1) + 'year.arff')\n",
    "  dfs.append(pd.DataFrame(data_arff[0]))\n",
    "\n",
    "# Concatenate the five dataframes in one\n",
    "df = pd.concat(dfs)"
   ]
  },
  {
   "cell_type": "code",
   "execution_count": 0,
   "metadata": {
    "colab": {
     "base_uri": "https://localhost:8080/",
     "height": 161
    },
    "colab_type": "code",
    "id": "AhZdL4UQ7vXW",
    "outputId": "5c578a5e-b7de-4275-ebb2-0f58ccb4c9a6"
   },
   "outputs": [
    {
     "name": "stdout",
     "output_type": "stream",
     "text": [
      "     Attr1    Attr2    Attr3   Attr4  ...  Attr61   Attr62  Attr63   Attr64\n",
      "0  0.20055  0.37951  0.39641  2.0472  ...  5.1372   82.658  4.4158   7.4277\n",
      "1  0.20912  0.49988  0.47225  1.9447  ...  3.2732  107.350  3.4000  60.9870\n",
      "\n",
      "[2 rows x 64 columns]\n",
      "   class\n",
      "0      0\n",
      "1      0\n"
     ]
    }
   ],
   "source": [
    "# Split data in the features and the labels (last collumn).\n",
    "X_df = df.iloc[:,:-1]\n",
    "y_df = df.iloc[:, -1:].astype('int')\n",
    "\n",
    "# Print first and second examples to check validity.\n",
    "print(X_df[:2])\n",
    "print(y_df[:2])"
   ]
  },
  {
   "cell_type": "markdown",
   "metadata": {
    "colab_type": "text",
    "id": "Qwtv91JSqd6g"
   },
   "source": [
    "## Description of features"
   ]
  },
  {
   "cell_type": "code",
   "execution_count": 0,
   "metadata": {
    "colab": {
     "base_uri": "https://localhost:8080/",
     "height": 53
    },
    "colab_type": "code",
    "id": "ueWWroUc87lM",
    "outputId": "19b651fe-2f9a-4164-e16a-4e05db417dc3"
   },
   "outputs": [
    {
     "name": "stdout",
     "output_type": "stream",
     "text": [
      "Number of examples: 43405\n",
      "Number of features: 64\n"
     ]
    }
   ],
   "source": [
    "m, n = X_df.shape\n",
    "print(\"Number of examples: %d\" %m)\n",
    "print(\"Number of features: %d\" %n)"
   ]
  },
  {
   "cell_type": "code",
   "execution_count": 0,
   "metadata": {
    "colab": {
     "base_uri": "https://localhost:8080/",
     "height": 73
    },
    "colab_type": "code",
    "id": "81MaIBIK8-Il",
    "outputId": "ed678e56-1cbd-489f-92d8-c9c59f487fa8"
   },
   "outputs": [
    {
     "name": "stdout",
     "output_type": "stream",
     "text": [
      "The features of the dataset are:\n",
      "['Attr1', 'Attr2', 'Attr3', 'Attr4', 'Attr5', 'Attr6', 'Attr7', 'Attr8', 'Attr9', 'Attr10', 'Attr11', 'Attr12', 'Attr13', 'Attr14', 'Attr15', 'Attr16', 'Attr17', 'Attr18', 'Attr19', 'Attr20', 'Attr21', 'Attr22', 'Attr23', 'Attr24', 'Attr25', 'Attr26', 'Attr27', 'Attr28', 'Attr29', 'Attr30', 'Attr31', 'Attr32', 'Attr33', 'Attr34', 'Attr35', 'Attr36', 'Attr37', 'Attr38', 'Attr39', 'Attr40', 'Attr41', 'Attr42', 'Attr43', 'Attr44', 'Attr45', 'Attr46', 'Attr47', 'Attr48', 'Attr49', 'Attr50', 'Attr51', 'Attr52', 'Attr53', 'Attr54', 'Attr55', 'Attr56', 'Attr57', 'Attr58', 'Attr59', 'Attr60', 'Attr61', 'Attr62', 'Attr63', 'Attr64']\n"
     ]
    }
   ],
   "source": [
    "print(\"The features of the dataset are:\")\n",
    "print(list(X_df.columns))"
   ]
  },
  {
   "cell_type": "markdown",
   "metadata": {
    "colab_type": "text",
    "id": "8xnz6DWo-iAp"
   },
   "source": [
    "This dataset has 43405 examples and each of them has 64 features, that correspond to a financial rates. As we can see, the name of these rates are not included in the arff files. They are avaialble [here](http://archive.ics.uci.edu/ml/datasets/Polish+companies+bankruptcy+data)."
   ]
  },
  {
   "cell_type": "markdown",
   "metadata": {
    "colab_type": "text",
    "id": "HIaWoaPH9E9f"
   },
   "source": [
    "## Checking for non numeric features"
   ]
  },
  {
   "cell_type": "markdown",
   "metadata": {
    "colab_type": "text",
    "id": "Q_gDetCzwN2L"
   },
   "source": [
    "Since each feature of the dataset corresponds to a financial rate, we assume that there are only numeric features. We will check it using the above function."
   ]
  },
  {
   "cell_type": "code",
   "execution_count": 0,
   "metadata": {
    "colab": {},
    "colab_type": "code",
    "id": "Ko9d-X9TC1gh"
   },
   "outputs": [],
   "source": [
    "def isnumeric(df):\n",
    "  # Define a dataframe with the non numeric values of df\n",
    "  select = df.select_dtypes(exclude=np.number)\n",
    "  # If the shape returns 0, it means there aren't any columns with non numeric values. So flag must be True, thus the negation.\n",
    "  flag = not bool(df.select_dtypes(exclude=np.number).shape[1]) \n",
    "  # Returns a list with the column names that have non numeric values\n",
    "  not_numerics = df.select_dtypes(exclude=np.number).columns.tolist()\n",
    "  \n",
    "  return flag , not_numerics"
   ]
  },
  {
   "cell_type": "code",
   "execution_count": 0,
   "metadata": {
    "colab": {
     "base_uri": "https://localhost:8080/",
     "height": 35
    },
    "colab_type": "code",
    "id": "J_YTw4zEErng",
    "outputId": "f1b22c51-b66b-49a1-c0b2-4b9b5a9e356b"
   },
   "outputs": [
    {
     "name": "stdout",
     "output_type": "stream",
     "text": [
      "All features have numeric values\n"
     ]
    }
   ],
   "source": [
    "numeric , not_numerics = isnumeric(X_df)\n",
    "if (numeric):\n",
    "  print(\"All features have numeric values\")\n",
    "else:\n",
    "  for key in not_numerics:\n",
    "    print(key + \" feature is not numeric\")"
   ]
  },
  {
   "cell_type": "markdown",
   "metadata": {
    "colab_type": "text",
    "id": "upEEa4S59E5Y"
   },
   "source": [
    "## Dataset labels"
   ]
  },
  {
   "cell_type": "code",
   "execution_count": 0,
   "metadata": {
    "colab": {
     "base_uri": "https://localhost:8080/",
     "height": 53
    },
    "colab_type": "code",
    "id": "4Hc4w4k-HSji",
    "outputId": "5d96f5ff-0a00-4a12-b648-9191b120ac30"
   },
   "outputs": [
    {
     "name": "stdout",
     "output_type": "stream",
     "text": [
      "The are 2 labels with values\n",
      "[0 1]\n"
     ]
    }
   ],
   "source": [
    "# Number of labels\n",
    "print(\"The are %d labels with values\" %y_df.nunique())\n",
    "print(y_df['class'].unique())"
   ]
  },
  {
   "cell_type": "markdown",
   "metadata": {
    "colab_type": "text",
    "id": "k3ZNSFksaq3S"
   },
   "source": [
    "Class __0__ means that the company was not bankrupted and class __1__ means that the company was bankrupted."
   ]
  },
  {
   "cell_type": "markdown",
   "metadata": {
    "colab_type": "text",
    "id": "KAwwusxu9En9"
   },
   "source": [
    "## Checking for missing values"
   ]
  },
  {
   "cell_type": "markdown",
   "metadata": {
    "colab_type": "text",
    "id": "3_Lz-DYcwai0"
   },
   "source": [
    "Before classification, we should remove or substitute missing values, since our classifiers work with numeric values."
   ]
  },
  {
   "cell_type": "code",
   "execution_count": 0,
   "metadata": {
    "colab": {},
    "colab_type": "code",
    "id": "k3oVV3Blskje"
   },
   "outputs": [],
   "source": [
    "def missing_val(df):\n",
    "  # Cheking for every example if there is a column with a missing value\n",
    "  df_nulls = df.isnull().any(axis=1)\n",
    "  # Checking if there is an example with a missing value\n",
    "  flag = df_nulls.any()\n",
    "  # Returns an array of indexes for the examples with a missing value\n",
    "  null_examples = np.where(df_nulls == True)[0]\n",
    "\n",
    "  return flag , null_examples"
   ]
  },
  {
   "cell_type": "code",
   "execution_count": 0,
   "metadata": {
    "colab": {
     "base_uri": "https://localhost:8080/",
     "height": 89
    },
    "colab_type": "code",
    "id": "r16zgJIzsmkF",
    "outputId": "fcf72bb2-8290-4ff1-cf51-1d88c5527ef0"
   },
   "outputs": [
    {
     "name": "stdout",
     "output_type": "stream",
     "text": [
      "There are 23438 examples with missing values,\n",
      "So 53.998387 percent of total examples contain missing values.\n",
      "The examples that have missing values are the following:\n",
      "[    1     2     3 ... 43402 43403 43404]\n"
     ]
    }
   ],
   "source": [
    "missing , examples =  missing_val(X_df)\n",
    "if missing:\n",
    "  print(\"There are %d examples with missing values,\" %examples.size)\n",
    "  print(\"So %f percent of total examples contain missing values.\" %(examples.size/m *100))\n",
    "  print(\"The examples that have missing values are the following:\")\n",
    "  print(examples)\n",
    "else:\n",
    "  print(\"There are no missing values\")"
   ]
  },
  {
   "cell_type": "markdown",
   "metadata": {
    "colab_type": "text",
    "id": "pF_4GKnCq8dE"
   },
   "source": [
    "We can either drop the examples that contain the missing values or substitute the missing value with the mean value of the feature. Since half of our examples contain missing values, we will substitute the missing values using an Imputer (otherwise we will lose half of the dataset)."
   ]
  },
  {
   "cell_type": "code",
   "execution_count": 0,
   "metadata": {
    "colab": {},
    "colab_type": "code",
    "id": "FA4QjnEAq8w6"
   },
   "outputs": [],
   "source": [
    "imp_mean = Imputer(missing_values='NaN', strategy='mean', axis=0)"
   ]
  },
  {
   "cell_type": "markdown",
   "metadata": {
    "colab_type": "text",
    "id": "Y3KkTygW9pet"
   },
   "source": [
    "## Checking for balanced data"
   ]
  },
  {
   "cell_type": "code",
   "execution_count": 0,
   "metadata": {
    "colab": {
     "base_uri": "https://localhost:8080/",
     "height": 657
    },
    "colab_type": "code",
    "id": "9Cx-B8nyt4R9",
    "outputId": "ee7dd070-0d21-4d6d-c83e-60fef4ef906c"
   },
   "outputs": [
    {
     "data": {
      "image/png": "[encoded data removed]",
      "text/plain": [
       "<Figure size 720x720 with 1 Axes>"
      ]
     },
     "metadata": {
      "tags": []
     },
     "output_type": "display_data"
    },
    {
     "name": "stdout",
     "output_type": "stream",
     "text": [
      "There are 2091 bankrupt examples and 41314 not bankrupt exmaples,\n",
      "So 4.817417 percent of the examples are bankrupt and 95.182583 percent are not bankrupt.\n"
     ]
    }
   ],
   "source": [
    "n_bank = (y_df['class']==1).sum()\n",
    "n_unbank = (y_df['class']==0).sum()\n",
    "\n",
    "y = [n_bank, n_unbank]\n",
    "x = ['Bankrupt', 'Not Bankrupt']\n",
    "\n",
    "\n",
    "bars = plt.bar(x,y, width=0.5)\n",
    "bars[0].set_color('g')\n",
    "bars[1].set_color('r')\n",
    "plt.title(\"Features Distribution\")\n",
    "plt.ylabel(\"Number of examples\" , color='w')\n",
    "plt.xlabel(\"Labels\", color='w')\n",
    "plt.show()\n",
    "\n",
    "\n",
    "print(\"There are %d bankrupt examples and %d not bankrupt exmaples,\" %(n_bank, n_unbank))\n",
    "print(\"So %f percent of the examples are bankrupt and %f percent are not bankrupt.\" %(n_bank/m*100, n_unbank/m*100))"
   ]
  },
  {
   "cell_type": "markdown",
   "metadata": {
    "colab_type": "text",
    "id": "P8x_yLg2sU8u"
   },
   "source": [
    "We observe that our dataset is imbalanced, since (as expected) the number of companies that did not bankrupt is by far greater than the number of the bankrupted companies. We can resolve this situtation by using oversampling or undersampling."
   ]
  },
  {
   "cell_type": "markdown",
   "metadata": {
    "colab_type": "text",
    "id": "Wn7aXJrgehEt"
   },
   "source": [
    "## Train/Test split"
   ]
  },
  {
   "cell_type": "code",
   "execution_count": 0,
   "metadata": {
    "colab": {},
    "colab_type": "code",
    "id": "oQdjZa3TeiXO"
   },
   "outputs": [],
   "source": [
    "# Split our data (30% of the dataset will be the test set)\n",
    "X_train_df, X_test_df, y_train_df, y_test_df = train_test_split(X_df, y_df, test_size=0.30)"
   ]
  },
  {
   "cell_type": "markdown",
   "metadata": {
    "colab_type": "text",
    "id": "_n4HEocswyB5"
   },
   "source": [
    "## Part B questions"
   ]
  },
  {
   "cell_type": "markdown",
   "metadata": {
    "colab_type": "text",
    "id": "VcRiKUEqwx2J"
   },
   "source": [
    "1. **Write a short dataset description** \\\n",
    "See [Dataset Presentation](#scrollTo=3I_OX9hChwQV)\n",
    "2. **Find the number of examples and features. Search if there are non numeric features and which are those.** \\\n",
    "See [Description of features](#scrollTo=Qwtv91JSqd6g) and [Checking for non numeric features](#scrollTo=HIaWoaPH9E9f).\n",
    "3. **Check if there are any headers and line numbering.** \\\n",
    "None of the rows of the data files contains the names of corresponding features. There is not a line numbering.\n",
    "4. **Which are the labels for the corresponding classes?** \\\n",
    "The labels for the classes in the files were on the last column on the same data file and as we can see [here](#scrollTo=upEEa4S59E5Y) they are '0'(no bankrupty) and '1'(bankrupty).\n",
    "5. **Did you have to modify the text files?** \\\n",
    "No, we just load the filed in arff format.\n",
    "6. **Are there any missing values in the dataset? On which examples? What is the percentage of the examples with a missing value?** \\\n",
    "As we can see at [Checking for missing values](#scrollTo=KAwwusxu9En9) there are many missing values in the dataset. More specifically, 54% of the examples have missing values. This means that we should not just drop all these rows, but use an Imputer.\n",
    "7. **Find how many classes there are and check the balance of the dataset by calculating the percentage of examples each class has.** \\\n",
    "As we can see [here](#scrollTo=Y3KkTygW9pet) there are two classes. '0' \" for No bankrupty instances and '1' for bankrupty. The dataset is not balanced, since, as expected, we have more non-bankruptcy cases. We will resolve this using oversampling or undersampling.\n",
    "8. **Split the dataset to train/test sets and explain how you chose to handle the missing values and the non numeric values.** \\\n",
    "In the section [Train/Test split](#scrollTo=_g0gnm_oqHnN) we use the function sklearn.model_selection.train_test_split in order to split randomly our dataset to train and test subsets. We use the parameter test_size=0.30 in order to declare that we want the test set to be 30% of the whole dataset. In order to handle to missing values, we will use an imputer that has been defined above. It will replace all missing values with the mean value of the corresponding feature. All features are numerics, so we don't have to handle non numeric cases."
   ]
  },
  {
   "cell_type": "markdown",
   "metadata": {
    "colab_type": "text",
    "id": "XwtqhkcwDvO8"
   },
   "source": [
    "## Metrics"
   ]
  },
  {
   "cell_type": "markdown",
   "metadata": {
    "colab_type": "text",
    "id": "uyX9kaseDyaR"
   },
   "source": [
    "Before proceeding in the classification part, let's discuss first the metrics that will be used. Through our analysis, we should take into consideration that our dataset is very unbalanced. That's why we will not use accuracy but other metrics such as F1-score, precision and recall.\n",
    "\n",
    "- confusion matrix: A 2*2 matrix where 𝐶𝑖,𝑗 equals the number of samples that belong to i class and are classified in j class.\n",
    "- f1-micro average: F1-score that weights each sample equally.\n",
    "- f1-macro average: F1-score that weights each class equally.\n",
    "\n",
    "This means that, in case we just want to maximize our correct predictions, we use micro-averaged metrics. However, in our case, we value our minority class the most. In other words, it is more important for our classifier to correctly predict future bankrupts than just predict that a company will not bankrupt. That's why the macro-averaged metrics are more important.\n"
   ]
  },
  {
   "cell_type": "markdown",
   "metadata": {
    "colab_type": "text",
    "id": "MLoZRO05oWbf"
   },
   "source": [
    "# Baseline classification"
   ]
  },
  {
   "cell_type": "markdown",
   "metadata": {
    "colab_type": "text",
    "id": "ArbAJ_vuihx0"
   },
   "source": [
    "In this part, we will evaluate some classifiers without searching for the best hyperparameters or preprocessing our dataset (this is done in the later section). We will just select some random hyperparameters."
   ]
  },
  {
   "cell_type": "markdown",
   "metadata": {
    "colab_type": "text",
    "id": "BYC5vjIOtw9S"
   },
   "source": [
    "First, we will use the Imputer in order to fill the missing values of our dataset, because our classifiers can't handle missing values. Also, we convert our dataframes in NumPy arrays."
   ]
  },
  {
   "cell_type": "code",
   "execution_count": 0,
   "metadata": {
    "colab": {},
    "colab_type": "code",
    "id": "Butmi0fHtnF5"
   },
   "outputs": [],
   "source": [
    "imp_mean.fit(X_train_df)\n",
    "X_train = imp_mean.transform(X_train_df)\n",
    "X_test = imp_mean.transform(X_test_df)\n",
    "y_train = y_train_df.to_numpy()\n",
    "y_test = y_test_df.to_numpy()"
   ]
  },
  {
   "cell_type": "markdown",
   "metadata": {
    "colab_type": "text",
    "id": "wMdRUsfInwOJ"
   },
   "source": [
    "## Dummy classifiers"
   ]
  },
  {
   "cell_type": "markdown",
   "metadata": {
    "colab_type": "text",
    "id": "nFjKNBWwV_ft"
   },
   "source": [
    "Here we are going to evaluate some of the common dummy classifiers in our dataset. We are going to use the module DummyClassifier provided by sklearn. We will try the following strategies: \\\n",
    "- Uniform (random)\n",
    "- Constant (1 or 2, for our classes)\n",
    "- Most frequent\n",
    "- Stratified"
   ]
  },
  {
   "cell_type": "markdown",
   "metadata": {
    "colab_type": "text",
    "id": "SQBAtYkQ3PF4"
   },
   "source": [
    "### Training and Accuracy"
   ]
  },
  {
   "cell_type": "markdown",
   "metadata": {
    "colab_type": "text",
    "id": "s2jqUUREIcMC"
   },
   "source": [
    "We will train our Dummy Classifiers in the train set."
   ]
  },
  {
   "cell_type": "code",
   "execution_count": 0,
   "metadata": {
    "colab": {},
    "colab_type": "code",
    "id": "ss5yFoIZoXRO"
   },
   "outputs": [],
   "source": [
    "dc_uniform = DummyClassifier(strategy=\"uniform\")\n",
    "dc_constant_0 = DummyClassifier(strategy=\"constant\", constant=0)\n",
    "dc_constant_1 = DummyClassifier(strategy=\"constant\", constant=1)\n",
    "dc_most_frequent = DummyClassifier(strategy=\"most_frequent\")\n",
    "dc_stratified = DummyClassifier(strategy=\"stratified\")\n",
    "\n",
    "# The fit method from sklearn trains the model in the training set.\n",
    "dc_uniform.fit(X_train, y_train)\n",
    "dc_constant_0.fit(X_train, y_train)\n",
    "dc_constant_1.fit(X_train, y_train)\n",
    "dc_most_frequent.fit(X_train, y_train)\n",
    "dc_stratified.fit(X_train, y_train)\n",
    "\n",
    "# Using the predict method we can then make predictions on the test set\n",
    "\n",
    "# Uniform predictions\n",
    "preds_uniform = dc_uniform.predict(X_test)\n",
    "\n",
    "# Constant 1\n",
    "preds_constant_0 = dc_constant_0.predict(X_test)\n",
    "\n",
    "# Constant 2\n",
    "preds_constant_1 = dc_constant_1.predict(X_test)\n",
    "\n",
    "# Most frequent predictions\n",
    "preds_most_frequent = dc_most_frequent.predict(X_test)\n",
    "\n",
    "# Stratified predictions\n",
    "preds_stratified = dc_stratified.predict(X_test)"
   ]
  },
  {
   "cell_type": "markdown",
   "metadata": {
    "colab_type": "text",
    "id": "u0B63XXP5Tk8"
   },
   "source": [
    "Now based on the models we trained, we are going to calculate the accuracy of each strategy in our test set."
   ]
  },
  {
   "cell_type": "code",
   "execution_count": 0,
   "metadata": {
    "colab": {
     "base_uri": "https://localhost:8080/",
     "height": 748
    },
    "colab_type": "code",
    "id": "XTfW1bbh5T4N",
    "outputId": "7c69c91f-6fc1-4260-cafe-0eeef6cb2bee"
   },
   "outputs": [
    {
     "data": {
      "image/png": "[encoded data removed]",
      "text/plain": [
       "<Figure size 720x720 with 1 Axes>"
      ]
     },
     "metadata": {
      "tags": []
     },
     "output_type": "display_data"
    },
    {
     "name": "stdout",
     "output_type": "stream",
     "text": [
      "Classification Accuracy on the Polish companies bankruptcy Data Set (30% test set)\n",
      "\n",
      "constant_0 0.9549992320688067\n",
      "most frequent label 0.9549992320688067\n",
      "stratified 0.9132237751497466\n",
      "uniform 0.5063738289049301\n",
      "constant_1 0.04500076793119336\n"
     ]
    }
   ],
   "source": [
    "# Create a dictionary with the accuracies of the dummy strategies\n",
    "dummies_accuracy = {}\n",
    "dummies_accuracy['uniform'] = dc_uniform.score(X_test, y_test)\n",
    "dummies_accuracy['constant_0'] = dc_constant_0.score(X_test, y_test)\n",
    "dummies_accuracy['constant_1'] = dc_constant_1.score(X_test, y_test)\n",
    "dummies_accuracy['most frequent label'] = dc_most_frequent.score(X_test, y_test)\n",
    "dummies_accuracy['stratified'] = dc_stratified.score(X_test, y_test)\n",
    "\n",
    "# Create a barplot for the accuracies\n",
    "x = [key for key in dummies_accuracy.keys()]\n",
    "y = [value for value in dummies_accuracy.values()]\n",
    "bars = plt.bar(x,y, width=0.5)\n",
    "plt.title(\"Accuracy with dummy classifiers\")\n",
    "plt.ylabel(\"Accuracy\" , color='w')\n",
    "plt.xlabel(\"Strategy\", color='w')\n",
    "plt.show()\n",
    "\n",
    "# Print the sorted results\n",
    "print(\"Classification Accuracy on the Polish companies bankruptcy Data Set (30% test set)\\n\")\n",
    "sorted_accuracy = [(k, dummies_accuracy[k]) for k in sorted(dummies_accuracy, key=dummies_accuracy.get, reverse=True)]\n",
    "for k, v in sorted_accuracy:\n",
    "  print(k,v)\n"
   ]
  },
  {
   "cell_type": "markdown",
   "metadata": {
    "colab_type": "text",
    "id": "LeFn2huu3e34"
   },
   "source": [
    "### Confusion matrices, f1_micro and f1_macro scores "
   ]
  },
  {
   "cell_type": "code",
   "execution_count": 0,
   "metadata": {
    "colab": {
     "base_uri": "https://localhost:8080/",
     "height": 539
    },
    "colab_type": "code",
    "id": "fIF2OHLM5s8x",
    "outputId": "c3fa7823-5441-4856-8492-52be2b6a2e94"
   },
   "outputs": [
    {
     "name": "stdout",
     "output_type": "stream",
     "text": [
      "Confusion matrix for the \u001b[4muniform strategy\u001b[0m:\n",
      "[[6239 6197]\n",
      " [ 274  312]]\n",
      "f1-micro average: 0.503072\n",
      "f1-macro average: 0.373227\n",
      "\n",
      "Confusion matrix for the \u001b[4mconstant 0 strategy\u001b[0m:\n",
      "[[12436     0]\n",
      " [  586     0]]\n",
      "f1-micro average: 0.954999\n",
      "f1-macro average: 0.488491\n",
      "\n",
      "Confusion matrix for the \u001b[4mconstant 1 strategy\u001b[0m:\n",
      "[[    0 12436]\n",
      " [    0   586]]\n",
      "f1-micro average: 0.045001\n",
      "f1-macro average: 0.043063\n",
      "\n",
      "Confusion matrix for the \u001b[4mmost frequent strategy\u001b[0m:\n",
      "[[12436     0]\n",
      " [  586     0]]\n",
      "f1-micro average: 0.954999\n",
      "f1-macro average: 0.488491\n",
      "\n",
      "Confusion matrix for the \u001b[4mstratified strategy\u001b[0m:\n",
      "[[11825   611]\n",
      " [  558    28]]\n",
      "f1-micro average: 0.910229\n",
      "f1-macro average: 0.499307\n"
     ]
    }
   ],
   "source": [
    "UNDERLINE = '\\033[4m'\n",
    "END = '\\033[0m'\n",
    "\n",
    "# Calculate the confusion matrices of the above strategies\n",
    "dummies_cm = {}\n",
    "dummies_cm['uniform'] = confusion_matrix(y_test, preds_uniform)\n",
    "dummies_cm['constant_0'] = confusion_matrix(y_test, preds_constant_0)\n",
    "dummies_cm['constant_1'] = confusion_matrix(y_test, preds_constant_1)\n",
    "dummies_cm['most frequent label'] = confusion_matrix(y_test, preds_most_frequent)\n",
    "dummies_cm['stratified'] = confusion_matrix(y_test, preds_stratified)\n",
    "\n",
    "# Calculate the f1 micro average score of the above strategies\n",
    "dummies_f1_micro = {}\n",
    "dummies_f1_micro['uniform'] = f1_score(y_test, preds_uniform, average=\"micro\")\n",
    "dummies_f1_micro['constant_0'] = f1_score(y_test, preds_constant_0, average=\"micro\")\n",
    "dummies_f1_micro['constant_1'] = f1_score(y_test, preds_constant_1, average=\"micro\")\n",
    "dummies_f1_micro['most frequent label'] = f1_score(y_test, preds_most_frequent, average=\"micro\")\n",
    "dummies_f1_micro['stratified'] = f1_score(y_test, preds_stratified, average=\"micro\")\n",
    "\n",
    "# Calculate the f1 macro average score of the above strategies\n",
    "dummies_f1_macro = {}\n",
    "dummies_f1_macro['uniform'] = f1_score(y_test, preds_uniform, average=\"macro\")\n",
    "dummies_f1_macro['constant_0'] = f1_score(y_test, preds_constant_0, average=\"macro\")\n",
    "dummies_f1_macro['constant_1'] = f1_score(y_test, preds_constant_1, average=\"macro\")\n",
    "dummies_f1_macro['most frequent label'] = f1_score(y_test, preds_most_frequent, average=\"macro\")\n",
    "dummies_f1_macro['stratified'] = f1_score(y_test, preds_stratified, average=\"macro\")\n",
    "\n",
    "\n",
    "\n",
    "print(\"Confusion matrix for the \" + UNDERLINE + \"uniform strategy\" + END +\":\")\n",
    "print(dummies_cm['uniform'])\n",
    "print(\"f1-micro average: %f\" %dummies_f1_micro['uniform'])\n",
    "print(\"f1-macro average: %f\" %dummies_f1_macro['uniform'])\n",
    "\n",
    "print(\"\\nConfusion matrix for the \" + UNDERLINE + \"constant 0 strategy\" + END +\":\")\n",
    "print(dummies_cm['constant_0'])\n",
    "print(\"f1-micro average: %f\" %dummies_f1_micro['constant_0'])\n",
    "print(\"f1-macro average: %f\" %dummies_f1_macro['constant_0'])\n",
    "\n",
    "print(\"\\nConfusion matrix for the \" + UNDERLINE + \"constant 1 strategy\" + END +\":\")\n",
    "print(dummies_cm['constant_1'])\n",
    "print(\"f1-micro average: %f\" %dummies_f1_micro['constant_1'])\n",
    "print(\"f1-macro average: %f\" %dummies_f1_macro['constant_1'])\n",
    "\n",
    "print(\"\\nConfusion matrix for the \" + UNDERLINE + \"most frequent strategy\" + END +\":\")\n",
    "print(dummies_cm['most frequent label'])\n",
    "print(\"f1-micro average: %f\" %dummies_f1_micro['most frequent label'])\n",
    "print(\"f1-macro average: %f\" %dummies_f1_macro['most frequent label'])\n",
    "\n",
    "print(\"\\nConfusion matrix for the \" + UNDERLINE + \"stratified strategy\" + END +\":\")\n",
    "print(dummies_cm['stratified'])\n",
    "print(\"f1-micro average: %f\" %dummies_f1_micro['stratified'])\n",
    "print(\"f1-macro average: %f\" %dummies_f1_macro['stratified'])"
   ]
  },
  {
   "cell_type": "code",
   "execution_count": 0,
   "metadata": {
    "colab": {
     "base_uri": "https://localhost:8080/",
     "height": 1000
    },
    "colab_type": "code",
    "id": "hNMOwSfE7usi",
    "outputId": "154f0cbb-9014-4781-e60c-d826e35b50e8"
   },
   "outputs": [
    {
     "data": {
      "image/png": "[encoded data removed]",
      "text/plain": [
       "<Figure size 720x720 with 1 Axes>"
      ]
     },
     "metadata": {
      "tags": []
     },
     "output_type": "display_data"
    },
    {
     "data": {
      "image/png": "[encoded data removed]",
      "text/plain": [
       "<Figure size 720x720 with 1 Axes>"
      ]
     },
     "metadata": {
      "tags": []
     },
     "output_type": "display_data"
    }
   ],
   "source": [
    "# Create a barplot for the F1 micro averages\n",
    "x_micro = [key for key in dummies_f1_micro.keys()]\n",
    "y_micro = [value for value in dummies_f1_micro.values()]\n",
    "bars = plt.bar(x_micro,y_micro, width=0.5)\n",
    "plt.title(\"f1 micro score with dummy classifiers\")\n",
    "plt.ylabel(\"f1 micro score\" , color='w')\n",
    "plt.xlabel(\"Strategy\", color='w')\n",
    "plt.show()\n",
    "\n",
    "# Create a barplot for the F1 macro averages\n",
    "x_macro = [key for key in dummies_f1_macro.keys()]\n",
    "y_macro = [value for value in dummies_f1_macro.values()]\n",
    "bars = plt.bar(x_macro,y_macro, width=0.5)\n",
    "plt.title(\"f1 macro score with dummy classifiers\")\n",
    "plt.ylabel(\"f1 macro score\" , color='w')\n",
    "plt.xlabel(\"Strategy\", color='w')\n",
    "plt.show()"
   ]
  },
  {
   "cell_type": "markdown",
   "metadata": {
    "colab_type": "text",
    "id": "QXYvBTv-75PA"
   },
   "source": [
    "### Classification reports"
   ]
  },
  {
   "cell_type": "code",
   "execution_count": 0,
   "metadata": {
    "colab": {
     "base_uri": "https://localhost:8080/",
     "height": 1000
    },
    "colab_type": "code",
    "id": "1Bpo8iuF75u4",
    "outputId": "be5209a8-f3e4-4d23-a623-563e8aa7ca8f"
   },
   "outputs": [
    {
     "name": "stdout",
     "output_type": "stream",
     "text": [
      "Classification Precision, Recall, F1 on the Polish companies bankruptcy Data Set (30% test set)\n",
      "\n",
      "\u001b[4mUniform strategy\u001b[0m\n",
      "\n",
      "              precision    recall  f1-score   support\n",
      "\n",
      "           0       0.96      0.50      0.66     12440\n",
      "           1       0.04      0.50      0.08       582\n",
      "\n",
      "    accuracy                           0.50     13022\n",
      "   macro avg       0.50      0.50      0.37     13022\n",
      "weighted avg       0.91      0.50      0.63     13022\n",
      "\n",
      "\n",
      "\u001b[4mConstant 0 strategy\u001b[0m\n",
      "\n",
      "              precision    recall  f1-score   support\n",
      "\n",
      "           0       0.96      1.00      0.98     12440\n",
      "           1       0.00      0.00      0.00       582\n",
      "\n",
      "    accuracy                           0.96     13022\n",
      "   macro avg       0.48      0.50      0.49     13022\n",
      "weighted avg       0.91      0.96      0.93     13022\n",
      "\n",
      "\n",
      "\u001b[4mConstant 1 strategy\u001b[0m\n",
      "\n",
      "              precision    recall  f1-score   support\n",
      "\n",
      "           0       0.00      0.00      0.00     12440\n",
      "           1       0.04      1.00      0.09       582\n",
      "\n",
      "    accuracy                           0.04     13022\n",
      "   macro avg       0.02      0.50      0.04     13022\n",
      "weighted avg       0.00      0.04      0.00     13022\n",
      "\n",
      "\n",
      "\u001b[4mMost frequent strategy\u001b[0m\n",
      "\n",
      "              precision    recall  f1-score   support\n",
      "\n",
      "           0       0.96      1.00      0.98     12440\n",
      "           1       0.00      0.00      0.00       582\n",
      "\n",
      "    accuracy                           0.96     13022\n",
      "   macro avg       0.48      0.50      0.49     13022\n",
      "weighted avg       0.91      0.96      0.93     13022\n",
      "\n",
      "\n",
      "\u001b[4mStratified strategy\u001b[0m\n",
      "\n",
      "              precision    recall  f1-score   support\n",
      "\n",
      "           0       0.96      0.95      0.95     12440\n",
      "           1       0.06      0.06      0.06       582\n",
      "\n",
      "    accuracy                           0.91     13022\n",
      "   macro avg       0.51      0.51      0.51     13022\n",
      "weighted avg       0.92      0.91      0.91     13022\n",
      "\n"
     ]
    },
    {
     "name": "stderr",
     "output_type": "stream",
     "text": [
      "/usr/local/lib/python3.6/dist-packages/sklearn/metrics/classification.py:1437: UndefinedMetricWarning: Precision and F-score are ill-defined and being set to 0.0 in labels with no predicted samples.\n",
      "  'precision', 'predicted', average, warn_for)\n"
     ]
    }
   ],
   "source": [
    "print(\"Classification Precision, Recall, F1 on the Polish companies bankruptcy Data Set (30% test set)\")\n",
    "\n",
    "print(\"\\n\"+UNDERLINE+\"Uniform strategy\"+END+\"\\n\")\n",
    "print(classification_report(y_test, preds_uniform))\n",
    "print(\"\\n\"+UNDERLINE+\"Constant 0 strategy\"+END+\"\\n\")\n",
    "print(classification_report(y_test, preds_constant_0))\n",
    "print(\"\\n\"+UNDERLINE+\"Constant 1 strategy\"+END+\"\\n\")\n",
    "print(classification_report(y_test, preds_constant_1))\n",
    "print(\"\\n\"+UNDERLINE+\"Most frequent strategy\"+END+\"\\n\")\n",
    "print(classification_report(y_test, preds_most_frequent))\n",
    "print(\"\\n\"+UNDERLINE+\"Stratified strategy\"+END+\"\\n\")\n",
    "print(classification_report(y_test, preds_stratified))"
   ]
  },
  {
   "cell_type": "markdown",
   "metadata": {
    "colab_type": "text",
    "id": "2yO1QWZNn3ew"
   },
   "source": [
    "## Gaussian Naive Bayes classifier\n"
   ]
  },
  {
   "cell_type": "markdown",
   "metadata": {
    "colab_type": "text",
    "id": "_5Zz9yMt_en4"
   },
   "source": [
    "In this section we are going to use the Gaussian Naive Bayes classifier from sklearn. \\"
   ]
  },
  {
   "cell_type": "markdown",
   "metadata": {
    "colab_type": "text",
    "id": "EpIxQreG3tmJ"
   },
   "source": [
    "### Training and Accuracy"
   ]
  },
  {
   "cell_type": "code",
   "execution_count": 0,
   "metadata": {
    "colab": {
     "base_uri": "https://localhost:8080/",
     "height": 91
    },
    "colab_type": "code",
    "id": "BlEF9DRAn34e",
    "outputId": "be80c687-9b05-4275-9a07-fbc7ed762289"
   },
   "outputs": [
    {
     "name": "stdout",
     "output_type": "stream",
     "text": [
      "The accuracy score for the Gaussian Naive Bayes algorithm is: 0.071725\n"
     ]
    },
    {
     "name": "stderr",
     "output_type": "stream",
     "text": [
      "/usr/local/lib/python3.6/dist-packages/sklearn/utils/validation.py:724: DataConversionWarning: A column-vector y was passed when a 1d array was expected. Please change the shape of y to (n_samples, ), for example using ravel().\n",
      "  y = column_or_1d(y, warn=True)\n"
     ]
    }
   ],
   "source": [
    "gnb = GaussianNB()\n",
    "gnb.fit(X_train, y_train)\n",
    "preds_gnb = gnb.predict(X_test)\n",
    "print(\"The accuracy score for the Gaussian Naive Bayes algorithm is: %f\" %accuracy_score(y_test, preds_gnb))"
   ]
  },
  {
   "cell_type": "markdown",
   "metadata": {
    "colab_type": "text",
    "id": "x5bGiFYbAUZx"
   },
   "source": [
    "### Confusion matrix, f1_micro and f1_macro scores"
   ]
  },
  {
   "cell_type": "code",
   "execution_count": 0,
   "metadata": {
    "colab": {
     "base_uri": "https://localhost:8080/",
     "height": 53
    },
    "colab_type": "code",
    "id": "3wDg343QAaHk",
    "outputId": "4d098422-7f99-4d6d-f477-b46339cc8ba7"
   },
   "outputs": [
    {
     "name": "stdout",
     "output_type": "stream",
     "text": [
      "[[  368 12072]\n",
      " [   16   566]]\n"
     ]
    }
   ],
   "source": [
    "gnb_cm = confusion_matrix(y_test, preds_gnb)\n",
    "print(gnb_cm)"
   ]
  },
  {
   "cell_type": "code",
   "execution_count": 0,
   "metadata": {
    "colab": {
     "base_uri": "https://localhost:8080/",
     "height": 53
    },
    "colab_type": "code",
    "id": "P9-NVhpTFPCS",
    "outputId": "74cb74de-2a7a-4472-cc25-eb199e939b30"
   },
   "outputs": [
    {
     "name": "stdout",
     "output_type": "stream",
     "text": [
      "f1-micro average: 0.071725\n",
      "f1-macro average: 0.071510\n"
     ]
    }
   ],
   "source": [
    "gau_nb_f1_micro = f1_score(y_test, preds_gnb, average=\"micro\")\n",
    "gau_nb_f1_macro = f1_score(y_test, preds_gnb, average=\"macro\")\n",
    "\n",
    "print(\"f1-micro average: %f\" %gau_nb_f1_micro)\n",
    "print(\"f1-macro average: %f\" %gau_nb_f1_macro)"
   ]
  },
  {
   "cell_type": "markdown",
   "metadata": {
    "colab_type": "text",
    "id": "Ll_zpIoPFciN"
   },
   "source": [
    "### Classification report"
   ]
  },
  {
   "cell_type": "code",
   "execution_count": 0,
   "metadata": {
    "colab": {
     "base_uri": "https://localhost:8080/",
     "height": 215
    },
    "colab_type": "code",
    "id": "gQ33GW1aFdFM",
    "outputId": "4c600861-76b6-49a3-bb6a-187e82cdc5c7"
   },
   "outputs": [
    {
     "name": "stdout",
     "output_type": "stream",
     "text": [
      "\n",
      "Classification Precision, Recall, F1 on the Polish companies bankruptcy Data Set (30% test set)\n",
      "              precision    recall  f1-score   support\n",
      "\n",
      "           0       0.96      0.03      0.06     12440\n",
      "           1       0.04      0.97      0.09       582\n",
      "\n",
      "    accuracy                           0.07     13022\n",
      "   macro avg       0.50      0.50      0.07     13022\n",
      "weighted avg       0.92      0.07      0.06     13022\n",
      "\n"
     ]
    }
   ],
   "source": [
    "print(\"\\nClassification Precision, Recall, F1 on the Polish companies bankruptcy Data Set (30% test set)\")\n",
    "print(classification_report(y_test, preds_gnb))"
   ]
  },
  {
   "cell_type": "markdown",
   "metadata": {
    "colab_type": "text",
    "id": "IWj8e_JwFdY7"
   },
   "source": [
    "### Cumulatively F1-scores plots"
   ]
  },
  {
   "cell_type": "code",
   "execution_count": 0,
   "metadata": {
    "colab": {
     "base_uri": "https://localhost:8080/",
     "height": 1000
    },
    "colab_type": "code",
    "id": "8JorlVnaFeF8",
    "outputId": "91fd79f8-e9e0-4757-a73d-7694295a5f40"
   },
   "outputs": [
    {
     "data": {
      "image/png": "[encoded data removed]",
      "text/plain": [
       "<Figure size 720x720 with 1 Axes>"
      ]
     },
     "metadata": {
      "tags": []
     },
     "output_type": "display_data"
    },
    {
     "data": {
      "image/png": "[encoded data removed]",
      "text/plain": [
       "<Figure size 720x720 with 1 Axes>"
      ]
     },
     "metadata": {
      "tags": []
     },
     "output_type": "display_data"
    }
   ],
   "source": [
    "# Create a barplot for the F1 micro averages\n",
    "x_micro.append(\"Gaussian NB algorithm\")\n",
    "y_micro.append(gau_nb_f1_micro)\n",
    "bars = plt.bar(x_micro,y_micro, width=0.5)\n",
    "bars[5].set_color('y')\n",
    "plt.title(\"f1 micro score on different classifiers\")\n",
    "plt.ylabel(\"f1 micro score\" , color='w')\n",
    "plt.xlabel(\"Strategy\", color='w')\n",
    "plt.show()\n",
    "\n",
    "# Create a barplot for the F1 macro averages\n",
    "x_macro.append(\"Gaussian NB algorithm\")\n",
    "y_macro.append(gau_nb_f1_macro)\n",
    "bars = plt.bar(x_macro,y_macro, width=0.5)\n",
    "bars[5].set_color('y')\n",
    "plt.title(\"f1 macro score on different classifiers\")\n",
    "plt.ylabel(\"f1 macro score\" , color='w')\n",
    "plt.xlabel(\"Strategy\", color='w')\n",
    "plt.show()"
   ]
  },
  {
   "cell_type": "markdown",
   "metadata": {
    "colab_type": "text",
    "id": "lMDT4wgyn4Yj"
   },
   "source": [
    "## kNN classifier"
   ]
  },
  {
   "cell_type": "markdown",
   "metadata": {
    "colab_type": "text",
    "id": "WlmVn5uq9SuF"
   },
   "source": [
    "In this section we are going to use the k Nearest Neighbors Classifier. \\\n",
    "\n",
    "The kNN algorithm is a non-parametric classification method. A point is classified to the class most common among its k nearest neighbors. \\\n",
    "\\\n",
    "The value of k is usually a small integer. \\\n",
    "\\\n",
    "For this section the value of k will be 5 (k=5). We are going to search for the optimal value of k in a later section. "
   ]
  },
  {
   "cell_type": "code",
   "execution_count": 0,
   "metadata": {
    "colab": {
     "base_uri": "https://localhost:8080/",
     "height": 91
    },
    "colab_type": "code",
    "id": "pbQhAMaQn41o",
    "outputId": "5ef2b105-209e-4138-b0a7-db343ca002c8"
   },
   "outputs": [
    {
     "name": "stderr",
     "output_type": "stream",
     "text": [
      "/usr/local/lib/python3.6/dist-packages/ipykernel_launcher.py:4: DataConversionWarning: A column-vector y was passed when a 1d array was expected. Please change the shape of y to (n_samples, ), for example using ravel().\n",
      "  after removing the cwd from sys.path.\n"
     ]
    },
    {
     "name": "stdout",
     "output_type": "stream",
     "text": [
      "The accuracy score for kNN algorithm with k=5 is: 0.952542\n"
     ]
    }
   ],
   "source": [
    "# Chosen value of k is 5\n",
    "k=5\n",
    "\n",
    "knn = KNeighborsClassifier(n_neighbors = k)\n",
    "knn.fit(X_train, y_train)\n",
    "preds_knn = knn.predict(X_test)\n",
    "print(\"The accuracy score for kNN algorithm with k=%d is: %f\" %(k,accuracy_score(y_test, preds_knn)))"
   ]
  },
  {
   "cell_type": "markdown",
   "metadata": {
    "colab_type": "text",
    "id": "XQo5WHah9sFP"
   },
   "source": [
    "### Confusion matrix, f1_macro and f1_micro scores"
   ]
  },
  {
   "cell_type": "code",
   "execution_count": 0,
   "metadata": {
    "colab": {
     "base_uri": "https://localhost:8080/",
     "height": 53
    },
    "colab_type": "code",
    "id": "wuZL6zmG9sdh",
    "outputId": "01602d1c-6ba2-4e23-8f4e-450ee50a05e2"
   },
   "outputs": [
    {
     "name": "stdout",
     "output_type": "stream",
     "text": [
      "[[12352    88]\n",
      " [  530    52]]\n"
     ]
    }
   ],
   "source": [
    "knn_5_cm = confusion_matrix(y_test, preds_knn)\n",
    "print(knn_5_cm)"
   ]
  },
  {
   "cell_type": "code",
   "execution_count": 0,
   "metadata": {
    "colab": {
     "base_uri": "https://localhost:8080/",
     "height": 53
    },
    "colab_type": "code",
    "id": "y0bvuNpK9zxv",
    "outputId": "4c59b347-e982-4b38-d65a-b5410a458783"
   },
   "outputs": [
    {
     "name": "stdout",
     "output_type": "stream",
     "text": [
      "f1-micro average: 0.952542\n",
      "f1-macro average: 0.559819\n"
     ]
    }
   ],
   "source": [
    "neigh_f1_micro = f1_score(y_test, preds_knn, average=\"micro\")\n",
    "neigh_f1_macro = f1_score(y_test, preds_knn, average=\"macro\")\n",
    "\n",
    "print(\"f1-micro average: %f\" %neigh_f1_micro)\n",
    "print(\"f1-macro average: %f\" %neigh_f1_macro)"
   ]
  },
  {
   "cell_type": "markdown",
   "metadata": {
    "colab_type": "text",
    "id": "fJKqhf0j9_w2"
   },
   "source": [
    "### Classification report"
   ]
  },
  {
   "cell_type": "code",
   "execution_count": 0,
   "metadata": {
    "colab": {
     "base_uri": "https://localhost:8080/",
     "height": 197
    },
    "colab_type": "code",
    "id": "kqfVNLLE-AW0",
    "outputId": "d934c954-5fd3-4814-c3a6-b066541459ec"
   },
   "outputs": [
    {
     "name": "stdout",
     "output_type": "stream",
     "text": [
      "Classification Precision, Recall, F1 on the Polish companies bankruptcy Data Set (30% test set)\n",
      "              precision    recall  f1-score   support\n",
      "\n",
      "           0       0.96      0.99      0.98     12440\n",
      "           1       0.37      0.09      0.14       582\n",
      "\n",
      "    accuracy                           0.95     13022\n",
      "   macro avg       0.67      0.54      0.56     13022\n",
      "weighted avg       0.93      0.95      0.94     13022\n",
      "\n"
     ]
    }
   ],
   "source": [
    "print(\"Classification Precision, Recall, F1 on the Polish companies bankruptcy Data Set (30% test set)\")\n",
    "print(classification_report(y_test, preds_knn))"
   ]
  },
  {
   "cell_type": "markdown",
   "metadata": {
    "colab_type": "text",
    "id": "zMMLf_sw-Fio"
   },
   "source": [
    "### Cumulatively F1-scores plots"
   ]
  },
  {
   "cell_type": "code",
   "execution_count": 0,
   "metadata": {
    "colab": {
     "base_uri": "https://localhost:8080/",
     "height": 1000
    },
    "colab_type": "code",
    "id": "XE3g5jev-FzZ",
    "outputId": "221341dc-d50e-4adc-838e-83fc1b7fb9d1"
   },
   "outputs": [
    {
     "data": {
      "image/png": "[encoded data removed]",
      "text/plain": [
       "<Figure size 720x720 with 1 Axes>"
      ]
     },
     "metadata": {
      "tags": []
     },
     "output_type": "display_data"
    },
    {
     "data": {
      "image/png": "[encoded data removed]",
      "text/plain": [
       "<Figure size 720x720 with 1 Axes>"
      ]
     },
     "metadata": {
      "tags": []
     },
     "output_type": "display_data"
    }
   ],
   "source": [
    "#Creating a barplot for the F1 micro averages\n",
    "x_micro.append(\"kNN algorithm (k=5)\")\n",
    "y_micro.append(neigh_f1_micro)\n",
    "bars = plt.bar(x_micro,y_micro, width=0.5)\n",
    "bars[5].set_color('y')\n",
    "bars[6].set_color('red')\n",
    "plt.title(\"f1 micro score on different classifiers\")\n",
    "plt.ylabel(\"f1 micro score\" , color='w')\n",
    "plt.xlabel(\"Strategy\", color='w')\n",
    "plt.show()\n",
    "\n",
    "#Creating a barplot for the F1 micro averages\n",
    "x_macro.append(\"kNN algorithm (k=5)\")\n",
    "y_macro.append(neigh_f1_macro)\n",
    "bars = plt.bar(x_macro,y_macro, width=0.5)\n",
    "bars[5].set_color('y')\n",
    "bars[6].set_color('red')\n",
    "plt.title(\"f1 macro score on different classifiers\")\n",
    "plt.ylabel(\"f1 macro score\" , color='w')\n",
    "plt.xlabel(\"Strategy\", color='w')\n",
    "plt.show()"
   ]
  },
  {
   "cell_type": "markdown",
   "metadata": {
    "colab_type": "text",
    "id": "wMnvYgKa-0RT"
   },
   "source": [
    "The k-nn algorithm has the same f1-micro average as our dummy classifiers. However, it achieves higher f1-macro average that is our global score since our dataset is not balanced."
   ]
  },
  {
   "cell_type": "markdown",
   "metadata": {
    "colab_type": "text",
    "id": "dckO7fJ6_svq"
   },
   "source": [
    "## Multi-Layer Perceptron"
   ]
  },
  {
   "cell_type": "markdown",
   "metadata": {
    "colab_type": "text",
    "id": "AuHv3BAP_H-I"
   },
   "source": [
    "In this section we are going to evaluate a Multi-Layer Perceptron using some random hyperparameters."
   ]
  },
  {
   "cell_type": "markdown",
   "metadata": {
    "colab_type": "text",
    "id": "joKGNaph5TOY"
   },
   "source": [
    "### Training and Accuracy"
   ]
  },
  {
   "cell_type": "code",
   "execution_count": 0,
   "metadata": {
    "colab": {
     "base_uri": "https://localhost:8080/",
     "height": 91
    },
    "colab_type": "code",
    "id": "HMV220g-_tFh",
    "outputId": "6dba4112-7654-42f0-f1c5-89d294a5e296"
   },
   "outputs": [
    {
     "name": "stderr",
     "output_type": "stream",
     "text": [
      "/usr/local/lib/python3.6/dist-packages/sklearn/neural_network/multilayer_perceptron.py:921: DataConversionWarning: A column-vector y was passed when a 1d array was expected. Please change the shape of y to (n_samples, ), for example using ravel().\n",
      "  y = column_or_1d(y, warn=True)\n"
     ]
    },
    {
     "name": "stdout",
     "output_type": "stream",
     "text": [
      "The accuracy score for MLP algorithm  is: 0.955306\n"
     ]
    }
   ],
   "source": [
    "\n",
    "mlp =  MLPClassifier(solver='sgd', alpha=1e-5, hidden_layer_sizes=(5, 2))\n",
    "\n",
    "mlp.fit(X_train, y_train)\n",
    "preds_mlp = mlp.predict(X_test)\n",
    "print(\"The accuracy score for MLP algorithm  is: %f\" %accuracy_score(y_test, preds_mlp))"
   ]
  },
  {
   "cell_type": "markdown",
   "metadata": {
    "colab_type": "text",
    "id": "D5bovqlNM2cA"
   },
   "source": [
    "### Confusion matrix, f1_macro and f1_micro scores"
   ]
  },
  {
   "cell_type": "code",
   "execution_count": 0,
   "metadata": {
    "colab": {
     "base_uri": "https://localhost:8080/",
     "height": 53
    },
    "colab_type": "code",
    "id": "mhQRBdWeM23v",
    "outputId": "9aa900a5-0cd6-4007-f5dc-0180fd000e8e"
   },
   "outputs": [
    {
     "name": "stdout",
     "output_type": "stream",
     "text": [
      "[[12440     0]\n",
      " [  582     0]]\n"
     ]
    }
   ],
   "source": [
    "mlp_cm = confusion_matrix(y_test, preds_mlp)\n",
    "print(mlp_cm)"
   ]
  },
  {
   "cell_type": "code",
   "execution_count": 0,
   "metadata": {
    "colab": {
     "base_uri": "https://localhost:8080/",
     "height": 109
    },
    "colab_type": "code",
    "id": "PE3uPMvKM4CI",
    "outputId": "54993bb5-2eaf-492d-f0f1-da11798d46ac"
   },
   "outputs": [
    {
     "name": "stdout",
     "output_type": "stream",
     "text": [
      "f1-micro average: 0.955306\n",
      "f1-macro average: 0.488571\n"
     ]
    },
    {
     "name": "stderr",
     "output_type": "stream",
     "text": [
      "/usr/local/lib/python3.6/dist-packages/sklearn/metrics/classification.py:1437: UndefinedMetricWarning: F-score is ill-defined and being set to 0.0 in labels with no predicted samples.\n",
      "  'precision', 'predicted', average, warn_for)\n"
     ]
    }
   ],
   "source": [
    "mlp_f1_micro = f1_score(y_test, preds_mlp, average=\"micro\")\n",
    "mlp_f1_macro = f1_score(y_test, preds_mlp, average=\"macro\")\n",
    "\n",
    "print(\"f1-micro average: %f\" %mlp_f1_micro)\n",
    "print(\"f1-macro average: %f\" %mlp_f1_macro)"
   ]
  },
  {
   "cell_type": "markdown",
   "metadata": {
    "colab_type": "text",
    "id": "dkqhqW7QM5Jf"
   },
   "source": [
    "### Classification report"
   ]
  },
  {
   "cell_type": "code",
   "execution_count": 0,
   "metadata": {
    "colab": {
     "base_uri": "https://localhost:8080/",
     "height": 271
    },
    "colab_type": "code",
    "id": "NRcyVr1qM5aB",
    "outputId": "c3f57649-29f5-4706-c781-ad2995ded52e"
   },
   "outputs": [
    {
     "name": "stdout",
     "output_type": "stream",
     "text": [
      "\n",
      "Classification Precision, Recall, F1 on the Polish companies bankruptcy Data Set (30% test set)\n",
      "              precision    recall  f1-score   support\n",
      "\n",
      "           0       0.96      1.00      0.98     12440\n",
      "           1       0.00      0.00      0.00       582\n",
      "\n",
      "    accuracy                           0.96     13022\n",
      "   macro avg       0.48      0.50      0.49     13022\n",
      "weighted avg       0.91      0.96      0.93     13022\n",
      "\n"
     ]
    },
    {
     "name": "stderr",
     "output_type": "stream",
     "text": [
      "/usr/local/lib/python3.6/dist-packages/sklearn/metrics/classification.py:1437: UndefinedMetricWarning: Precision and F-score are ill-defined and being set to 0.0 in labels with no predicted samples.\n",
      "  'precision', 'predicted', average, warn_for)\n"
     ]
    }
   ],
   "source": [
    "print(\"\\nClassification Precision, Recall, F1 on the Polish companies bankruptcy Data Set (30% test set)\")\n",
    "print(classification_report(y_test, preds_mlp))"
   ]
  },
  {
   "cell_type": "markdown",
   "metadata": {
    "colab_type": "text",
    "id": "vQdHTsnoNAff"
   },
   "source": [
    "### Cumulatively F1-scores plots"
   ]
  },
  {
   "cell_type": "code",
   "execution_count": 0,
   "metadata": {
    "colab": {
     "base_uri": "https://localhost:8080/",
     "height": 1000
    },
    "colab_type": "code",
    "id": "LdghGsQaNAxa",
    "outputId": "91f1a101-4f8d-4475-df0d-848a4c4d34ae"
   },
   "outputs": [
    {
     "name": "stdout",
     "output_type": "stream",
     "text": [
      "['uniform', 'constant_0', 'constant_1', 'most frequent label', 'stratified', 'Gaussian NB algorithm', 'kNN algorithm (k=5)', 'MLP algorithm']\n"
     ]
    },
    {
     "data": {
      "image/png": "[encoded data removed]",
      "text/plain": [
       "<Figure size 720x720 with 1 Axes>"
      ]
     },
     "metadata": {
      "tags": []
     },
     "output_type": "display_data"
    },
    {
     "data": {
      "image/png": "[encoded data removed]",
      "text/plain": [
       "<Figure size 720x720 with 1 Axes>"
      ]
     },
     "metadata": {
      "tags": []
     },
     "output_type": "display_data"
    }
   ],
   "source": [
    "#Creating a barplot for the F1 micro averages\n",
    "x_micro.append(\"MLP algorithm\")\n",
    "y_micro.append(mlp_f1_micro)\n",
    "bars = plt.bar(x_micro,y_micro, width=0.5)\n",
    "print(x_micro)\n",
    "bars[5].set_color('y')\n",
    "bars[6].set_color('red')\n",
    "bars[7].set_color('green')\n",
    "plt.title(\"f1 micro score on different classifiers\")\n",
    "plt.ylabel(\"f1 micro score\" , color='w')\n",
    "plt.xlabel(\"Strategy\", color='w')\n",
    "plt.show()\n",
    "\n",
    "#Creating a barplot for the F1 micro averages\n",
    "x_macro.append(\"MLP algorithm\")\n",
    "y_macro.append(mlp_f1_macro)\n",
    "bars = plt.bar(x_macro,y_macro, width=0.5)\n",
    "bars[5].set_color('y')\n",
    "bars[6].set_color('red')\n",
    "bars[7].set_color('green')\n",
    "plt.title(\"f1 macro score on different classifiers\")\n",
    "plt.ylabel(\"f1 macro score\" , color='w')\n",
    "plt.xlabel(\"Strategy\", color='w')\n",
    "plt.show()"
   ]
  },
  {
   "cell_type": "markdown",
   "metadata": {
    "colab_type": "text",
    "id": "jhWr1TkFA18I"
   },
   "source": [
    "The MLP algorithm doesn't perform well in the f1-macro average."
   ]
  },
  {
   "cell_type": "markdown",
   "metadata": {
    "colab_type": "text",
    "id": "rxP4hOt7wxiG"
   },
   "source": [
    "## Project questions"
   ]
  },
  {
   "cell_type": "markdown",
   "metadata": {
    "colab_type": "text",
    "id": "QlVo9x3BwxZp"
   },
   "source": [
    "1. See the [Dummy classifiers](#scrollTo=wMdRUsfInwOJ), [Gaussian Naive Bayes classifier](#scrollTo=2yO1QWZNn3ew), [kNN classifier](#scrollTo=lMDT4wgyn4Yj) and [MLP classifier](#scrollTo=dckO7fJ6_svq) subsections.\n",
    "2. See [Cumulatively F1-scores plots](#scrollTo=vQdHTsnoNAff)\n",
    "3. First of all, it is important to remember the scope of our classication.\n",
    "\n",
    "  The Polish companies bankruptcy dataset is about predicting if a company will bankrupt or not. So it's clear that it is more important to don't give false predictions when a company will bankrupt than when a comapny will not bankrupt. In the first case, we will not notify them that they need to change something in order to avoid bankruptcy, while in the other case we concern them wihout a reason. Also, since our dataset is unbalanced, we care more about the f1-macro metric, while f1-micro and accuracy are high wihtout a good classifier (using just a simple constant-0 classifier).\n",
    "\n",
    "  We observe that the constant_0, the most frequent and the stratified classifiers have the best accuracy, since the class 0 is the 95% of the dataset. The uniform classifiers predicts half of the train examples correctly, while the constant_1 is very poor, since the class 1 is very rare.\n",
    "\n",
    "  As for the Gaussian Naive Bayes classifier, it performs poorly in our dataset. More specifically, it has a large amount of false positives, that means it predicts a lot of time that a company will bankrupt, while it will not. This might happens due the fact that a Gaussian Naive Bayes assumes that all the features are following a gaussian distribution.\n",
    "\n",
    "  On the other hand, the k-NN classifier achieves the highest f1-macro metric, while keeping f1-micro and accuracy in a high value.\n",
    "\n",
    "  Finally, the MLP classifier has the same behavior with the constant 0 classifier. Of course, this is a baseline classification with random hyperparameters and the MLP classifier can achive higher metrics with the proper hypeparameters.\n"
   ]
  },
  {
   "cell_type": "markdown",
   "metadata": {
    "colab_type": "text",
    "id": "SjH3dhgToZlk"
   },
   "source": [
    "# Classifiers optimization"
   ]
  },
  {
   "cell_type": "markdown",
   "metadata": {
    "colab_type": "text",
    "id": "HuoEAS6vGD7V"
   },
   "source": [
    "In this section we are going to implement some optimization techniques such as dataset pre-processing and hyperparameter optimization."
   ]
  },
  {
   "cell_type": "markdown",
   "metadata": {
    "colab_type": "text",
    "id": "4KC8SeAFGY48"
   },
   "source": [
    "## Data pre-processing"
   ]
  },
  {
   "cell_type": "markdown",
   "metadata": {
    "colab_type": "text",
    "id": "ItbuaTLpGq5v"
   },
   "source": [
    "We are going to try the following pre-processing methods: \\\n",
    "- Dimensionality reduction:\n",
    "  - Feature Selection (Variance threshold)\n",
    "  - Feature Extraction (Principal Components Analysis - PCA)\n",
    "- Normalization (z-score)\n",
    "- Balancing the data (Oversampling/Undersampling)\n"
   ]
  },
  {
   "cell_type": "markdown",
   "metadata": {
    "colab_type": "text",
    "id": "mrzI_MtdG2Z3"
   },
   "source": [
    "### Feature selection - Variance Threshold"
   ]
  },
  {
   "cell_type": "markdown",
   "metadata": {
    "colab_type": "text",
    "id": "WbBCfqAXJzYh"
   },
   "source": [
    "It should be noted that dimensionality reduction won't help the performance of the dummy classifiers (it won't cause any damage either) since they only rely on the distribution of the labels in our dataset. \n",
    "\\\n",
    "\\\n",
    "We will apply a feature selector that removes all the low-variance features. This method is called Variance Threshold. The default value of the threshold is zero, which means that the selector will remove all the features with constant values. We will try different thresholds later and compare the results."
   ]
  },
  {
   "cell_type": "code",
   "execution_count": 0,
   "metadata": {
    "colab": {},
    "colab_type": "code",
    "id": "hWrfp4_eoakM"
   },
   "outputs": [],
   "source": [
    "selector = VarianceThreshold()"
   ]
  },
  {
   "cell_type": "markdown",
   "metadata": {
    "colab_type": "text",
    "id": "OtHpQjzpR91I"
   },
   "source": [
    "In order to select the range of the values of the threshold, we print the variance of each feature. "
   ]
  },
  {
   "cell_type": "code",
   "execution_count": 0,
   "metadata": {
    "colab": {
     "base_uri": "https://localhost:8080/",
     "height": 341
    },
    "colab_type": "code",
    "id": "eZTjbwz_R-Q4",
    "outputId": "0e99e952-6ce0-43e2-b67b-b0458118016e"
   },
   "outputs": [
    {
     "name": "stdout",
     "output_type": "stream",
     "text": [
      "[3.19718943e+00 2.78247589e+01 2.15244037e+01 1.21871916e+05\n",
      " 4.97944594e+09 4.02177535e+01 3.52195166e+01 3.36879316e+05\n",
      " 4.49849197e+03 1.81961002e+02 2.84765415e+01 2.36966839e+03\n",
      " 9.60419536e+03 3.52195161e+01 1.17389889e+10 2.59883618e+03\n",
      " 3.36936168e+05 3.54439028e+01 3.26971499e+03 2.00764650e+09\n",
      " 3.86096711e+04 2.73308084e+01 3.23334078e+03 6.17694606e+01\n",
      " 1.09915174e+02 2.22893546e+03 1.07932209e+09 2.33007394e+04\n",
      " 6.84822374e-01 8.16760056e+05 3.27768088e+03 1.61314415e+09\n",
      " 1.89396510e+04 1.86403350e+04 2.36396247e+01 4.49525759e+03\n",
      " 6.64353159e+06 1.85306639e+02 2.12965580e+03 2.24953109e+03\n",
      " 2.74570234e+06 2.96987621e+02 3.07748271e+10 1.71559771e+10\n",
      " 5.82759522e+06 1.21829755e+05 3.38296888e+08 2.35173763e+01\n",
      " 2.83531278e+03 1.32333255e+05 2.14785432e+01 2.48885440e+05\n",
      " 1.71786166e+06 1.73605152e+06 4.78955073e+09 4.04298175e+07\n",
      " 1.39475522e+02 4.05616033e+07 1.90111464e+04 1.25834675e+09\n",
      " 4.68873957e+04 2.69851934e+10 2.05421360e+04 6.84846629e+06]\n",
      "Max variance:\n",
      "30774827057.71726\n"
     ]
    }
   ],
   "source": [
    "train_variance = X_train.var(axis=0)\n",
    "print(train_variance)\n",
    "\n",
    "print('Max variance:')\n",
    "print(np.max(train_variance))"
   ]
  },
  {
   "cell_type": "code",
   "execution_count": 0,
   "metadata": {
    "colab": {
     "base_uri": "https://localhost:8080/",
     "height": 620
    },
    "colab_type": "code",
    "id": "ha81i9DrQ1eS",
    "outputId": "a88111c0-a906-4b63-d146-9e1b59a90dbf"
   },
   "outputs": [
    {
     "data": {
      "text/plain": [
       "[<matplotlib.lines.Line2D at 0x7fa4ce90a390>]"
      ]
     },
     "execution_count": 21,
     "metadata": {
      "tags": []
     },
     "output_type": "execute_result"
    },
    {
     "data": {
      "image/png": "[encoded data removed]",
      "text/plain": [
       "<Figure size 720x720 with 1 Axes>"
      ]
     },
     "metadata": {
      "tags": []
     },
     "output_type": "display_data"
    }
   ],
   "source": [
    "plt.plot(train_variance)"
   ]
  },
  {
   "cell_type": "code",
   "execution_count": 0,
   "metadata": {
    "colab": {},
    "colab_type": "code",
    "id": "Xiong-1DS4T8"
   },
   "outputs": [],
   "source": [
    "vthreshold = np.linspace(0, 10**7, 3)"
   ]
  },
  {
   "cell_type": "code",
   "execution_count": 0,
   "metadata": {
    "colab": {
     "base_uri": "https://localhost:8080/",
     "height": 35
    },
    "colab_type": "code",
    "id": "72UlxTYGRgG7",
    "outputId": "c7146f84-5c9a-4228-d57f-be4b39ab6fb7"
   },
   "outputs": [
    {
     "data": {
      "text/plain": [
       "array([       0.,  5000000., 10000000.])"
      ]
     },
     "execution_count": 23,
     "metadata": {
      "tags": []
     },
     "output_type": "execute_result"
    }
   ],
   "source": [
    "vthreshold"
   ]
  },
  {
   "cell_type": "markdown",
   "metadata": {
    "colab_type": "text",
    "id": "VYAHLlh7G5MA"
   },
   "source": [
    "### Feature Extraction - PCA"
   ]
  },
  {
   "cell_type": "markdown",
   "metadata": {
    "colab_type": "text",
    "id": "d11pF7RrSfm9"
   },
   "source": [
    "We are going to apply the Principal Components Analysis as a method for feature extraction in order to achieve dimensionality reduction. The number of components is a new hyperparameter. We will experiment with different values later."
   ]
  },
  {
   "cell_type": "code",
   "execution_count": 0,
   "metadata": {
    "colab": {},
    "colab_type": "code",
    "id": "C5FFeXVPGYLy"
   },
   "outputs": [],
   "source": [
    "pca = PCA()"
   ]
  },
  {
   "cell_type": "code",
   "execution_count": 0,
   "metadata": {
    "colab": {},
    "colab_type": "code",
    "id": "WqIfAF_5St1x"
   },
   "outputs": [],
   "source": [
    "n_components = [5, 7, 9]"
   ]
  },
  {
   "cell_type": "markdown",
   "metadata": {
    "colab_type": "text",
    "id": "EpfpZj_xG8sA"
   },
   "source": [
    "### Normalization - z-score"
   ]
  },
  {
   "cell_type": "markdown",
   "metadata": {
    "colab_type": "text",
    "id": "SKe57TjHSjt2"
   },
   "source": [
    "Τhe normalization method is important for the k Nearest Neighbors (kNN) algorithm. \\\\\n",
    "\n",
    "Lets say that we have the following features in our dataset:\n",
    "- x<sub>1</sub> : with values in the range [0,1]\n",
    "- x<sub>2</sub> : with values in the range [-100000,100000]\n",
    "\n",
    "In order to find the k nearest neighbors, the kNN algorithm will calculate the distances. The most widely used distance metric for kNN is the Euclidean distance. So when taking the euclidean distance between pairs of examples, the values of the feature x<sub>1</sub> will probably become uninformative and the algorithm would rely only on the values of the x<sub>2</sub> feature. So normalization will help the kNN algorithm to take into consideration all the features. \\\\\n",
    "\n",
    "For the same reason as described above scaling the data won't help the performance of the dummy classifiers."
   ]
  },
  {
   "cell_type": "code",
   "execution_count": 0,
   "metadata": {
    "colab": {},
    "colab_type": "code",
    "id": "jNIHQ7K7GYIR"
   },
   "outputs": [],
   "source": [
    "scaler = StandardScaler()"
   ]
  },
  {
   "cell_type": "markdown",
   "metadata": {
    "colab_type": "text",
    "id": "qwwd3jv7G_b_"
   },
   "source": [
    "### Balancing the data - Oversampling \\ UnderSampling"
   ]
  },
  {
   "cell_type": "markdown",
   "metadata": {
    "colab_type": "text",
    "id": "YUUDUHUXSsmL"
   },
   "source": [
    "Balancing the data is the last significant step of data pre-processing in the cross validation phase. \\\n",
    "\\\n",
    "This processing though will affect not only the performance of the kNN classifier, but the performance of the dummy classifiers too. "
   ]
  },
  {
   "cell_type": "code",
   "execution_count": 0,
   "metadata": {
    "colab": {},
    "colab_type": "code",
    "id": "OvZtBQGwGYGT"
   },
   "outputs": [],
   "source": [
    "ros = RandomOverSampler()"
   ]
  },
  {
   "cell_type": "markdown",
   "metadata": {
    "colab_type": "text",
    "id": "I7cxt7UhGXxz"
   },
   "source": [
    "## Hyperparameter tuning"
   ]
  },
  {
   "cell_type": "markdown",
   "metadata": {
    "colab_type": "text",
    "id": "SbiTMKRcGXug"
   },
   "source": [
    "In order to optimize our hyperparameters, we are going to implement 5-fold cross validation with gridsearch.\n",
    "\n",
    "The hyperparameters we have to tune are the following:\n",
    "- Variance threshold for feature selection\n",
    "- Number of components for PCA\n",
    "- k, metric, weights for the kNN algorithm\n",
    "- hidden_layer_sizes, activation, solver, max_iter, learning_rate, alpha for MLP"
   ]
  },
  {
   "cell_type": "markdown",
   "metadata": {
    "colab_type": "text",
    "id": "FcEYWN-sF1Jy"
   },
   "source": [
    "Define a function that trains and evaluates a GridSearch procedure."
   ]
  },
  {
   "cell_type": "code",
   "execution_count": 0,
   "metadata": {
    "colab": {},
    "colab_type": "code",
    "id": "c9VeIeDZFsub"
   },
   "outputs": [],
   "source": [
    "def grid_eval(X_train, X_test, y_train, y_test, steps, grid_params, score):\n",
    "  pipe = Pipeline(steps , memory = 'tmp')\n",
    "  estimator = GridSearchCV(pipe, grid_params, cv=5,scoring=score ,n_jobs=-1)\n",
    "  start_time = time.time()\n",
    "  estimator.fit(X_train, y_train)\n",
    "  preds = estimator.predict(X_test)\n",
    "  ttime =  time.time() - start_time\n",
    "  return preds, ttime, estimator.best_estimator_\n"
   ]
  },
  {
   "cell_type": "code",
   "execution_count": 0,
   "metadata": {
    "colab": {},
    "colab_type": "code",
    "id": "BZNWG_h-4Y3u"
   },
   "outputs": [],
   "source": [
    "def compare_bars(x_opt, y_opt, x_base, y_base, title, y_label, x_ticks, name_ticks):\n",
    "  \n",
    "  bars = plt.bar(x_opt, y_opt, width=0.4, label=\"optimized\")\n",
    "  bars = plt.bar(x_base, y_base, width=0.4, label=\"baseline\")\n",
    "  plt.title(title)\n",
    "  plt.ylabel(y_label , color='w')\n",
    "  plt.xlabel(\"Strategy\", color='w')\n",
    "  plt.xticks(x_ticks, name_ticks)\n",
    "\n",
    "  leg = plt.legend()\n",
    "  for text in leg.get_texts():\n",
    "      plt.setp(text, color = 'black')\n",
    "\n",
    "  plt.show()\n"
   ]
  },
  {
   "cell_type": "markdown",
   "metadata": {
    "colab_type": "text",
    "id": "BItGO00xGXtM"
   },
   "source": [
    "## Dummy Classifiers"
   ]
  },
  {
   "cell_type": "markdown",
   "metadata": {
    "colab_type": "text",
    "id": "JwJNA2hmGXlG"
   },
   "source": [
    "As we explained in each subsection of the [Data pre-processing](#scrollTo=4KC8SeAFGY48), only the oversamping technique has an impact on the performance of the dummy classifiers since they rely only on the frequency of appearance of each label in the dataset. \n",
    "\n",
    "So lets see the performance on the oversampled data."
   ]
  },
  {
   "cell_type": "code",
   "execution_count": 0,
   "metadata": {
    "colab": {},
    "colab_type": "code",
    "id": "CSMWWOotRnDH"
   },
   "outputs": [],
   "source": [
    "dc_uniform_opt = DummyClassifier(strategy=\"uniform\")\n",
    "dc_constant_0_opt = DummyClassifier(strategy=\"constant\", constant=0)\n",
    "dc_constant_1_opt = DummyClassifier(strategy=\"constant\", constant=1)\n",
    "dc_most_frequent_opt = DummyClassifier(strategy=\"most_frequent\")\n",
    "dc_stratified_opt = DummyClassifier(strategy=\"stratified\")"
   ]
  },
  {
   "cell_type": "markdown",
   "metadata": {
    "colab_type": "text",
    "id": "y5vkLaWgGXgM"
   },
   "source": [
    "Define a pipeline using only the ros as preprocessing."
   ]
  },
  {
   "cell_type": "code",
   "execution_count": 0,
   "metadata": {
    "colab": {},
    "colab_type": "code",
    "id": "uHB8oLT8zZt-"
   },
   "outputs": [],
   "source": [
    "grid_params = {}\n",
    "\n",
    "steps=[('ros', ros), ('dc_uniform', dc_uniform_opt)]\n",
    "\n",
    "preds_uniform_r, ttime_uniform_r, best_uniform_r = grid_eval(X_train, X_test, y_train, y_test, steps, grid_params, 'f1_macro')\n",
    "\n",
    "steps=[('ros', ros),  ('dc_costant_0', dc_constant_0_opt)]\n",
    "\n",
    "preds_constant_0_r, ttime_constant_0_r, best_constant_0_r = grid_eval(X_train, X_test, y_train, y_test, steps, grid_params, 'f1_macro')\n",
    "\n",
    "steps=[('ros', ros),  ('dc_constant_1', dc_constant_1_opt)]\n",
    "\n",
    "preds_constant_1_r, ttime_constant_1_r, best_constant_1_r = grid_eval(X_train, X_test, y_train, y_test, steps, grid_params, 'f1_macro')\n",
    "\n",
    "steps=[('ros', ros), ('dc_most_frequent', dc_most_frequent_opt)]\n",
    "\n",
    "preds_most_frequent_r, ttime_most_frequent_r, best_most_frequent_r = grid_eval(X_train, X_test, y_train, y_test, steps, grid_params, 'f1_macro')\n",
    "\n",
    "steps=[('ros', ros),  ('dc_uniform', dc_uniform_opt)]\n",
    "\n",
    "preds_stratified_r, ttime_stratified_r, best_stratified_r = grid_eval(X_train, X_test, y_train, y_test, steps, grid_params, 'f1_macro')"
   ]
  },
  {
   "cell_type": "markdown",
   "metadata": {
    "colab_type": "text",
    "id": "DCtzVvWPBtNG"
   },
   "source": [
    "Keep the evaluation metrics"
   ]
  },
  {
   "cell_type": "code",
   "execution_count": 0,
   "metadata": {
    "colab": {
     "base_uri": "https://localhost:8080/",
     "height": 359
    },
    "colab_type": "code",
    "id": "41YnxUIzUqLb",
    "outputId": "3bb3ac29-80db-445e-b3ff-b5a40fe119b4"
   },
   "outputs": [
    {
     "name": "stdout",
     "output_type": "stream",
     "text": [
      "Confusion matrix for the \u001b[4muniform strategy\u001b[0m:\n",
      "f1-micro average: 0.498848\n",
      "f1-macro average: 0.372135\n",
      "\n",
      "Confusion matrix for the \u001b[4mconstant 0 strategy\u001b[0m:\n",
      "f1-micro average: 0.954999\n",
      "f1-macro average: 0.488491\n",
      "\n",
      "Confusion matrix for the \u001b[4mconstant 1 strategy\u001b[0m:\n",
      "f1-micro average: 0.045001\n",
      "f1-macro average: 0.043063\n",
      "\n",
      "Confusion matrix for the \u001b[4mmost frequent strategy\u001b[0m:\n",
      "f1-micro average: 0.954999\n",
      "f1-macro average: 0.488491\n",
      "\n",
      "Confusion matrix for the \u001b[4mstratified strategy\u001b[0m:\n",
      "f1-micro average: 0.500538\n",
      "f1-macro average: 0.371303\n"
     ]
    }
   ],
   "source": [
    "dummies_f1_micro_opt = {}\n",
    "dummies_f1_macro_opt = {}\n",
    "dummies_best_estimator = {}\n",
    "dummies_time = {}\n",
    "\n",
    "\n",
    "dummies_f1_micro_opt['uniform'] = f1_score(y_test, preds_uniform_r, average=\"micro\")\n",
    "dummies_f1_macro_opt['uniform'] = f1_score(y_test, preds_uniform_r, average=\"macro\")\n",
    "dummies_best_estimator['uniform'] = best_uniform_r\n",
    "dummies_time['uniform'] = ttime_uniform_r\n",
    "\n",
    "dummies_f1_micro_opt['constant_0'] = f1_score(y_test, preds_constant_0_r, average=\"micro\")\n",
    "dummies_f1_macro_opt['constant_0'] = f1_score(y_test, preds_constant_0_r, average=\"macro\")\n",
    "dummies_best_estimator['constant_0'] = best_constant_0_r\n",
    "dummies_time['constant_0'] = ttime_constant_0_r\n",
    "\n",
    "dummies_f1_micro_opt['constant_1'] = f1_score(y_test, preds_constant_1_r, average=\"micro\")\n",
    "dummies_f1_macro_opt['constant_1'] = f1_score(y_test, preds_constant_1_r, average=\"macro\")\n",
    "dummies_best_estimator['constant_1'] = best_constant_1_r\n",
    "dummies_time['constant_1'] = ttime_constant_1_r\n",
    "\n",
    "dummies_f1_micro_opt['most_frequent'] = f1_score(y_test, preds_most_frequent_r, average=\"micro\")\n",
    "dummies_f1_macro_opt['most_frequent'] = f1_score(y_test, preds_most_frequent_r, average=\"macro\")\n",
    "dummies_best_estimator['most_frequent'] = best_most_frequent_r\n",
    "dummies_time['most_frequent'] = ttime_most_frequent_r\n",
    "\n",
    "dummies_f1_micro_opt['stratified'] = f1_score(y_test, preds_stratified_r, average=\"micro\")\n",
    "dummies_f1_macro_opt['stratified'] = f1_score(y_test, preds_stratified_r, average=\"macro\")\n",
    "dummies_best_estimator['stratified'] = best_stratified_r\n",
    "dummies_time['stratified'] = ttime_stratified_r\n",
    "\n",
    "print(\"Confusion matrix for the \" + UNDERLINE + \"uniform strategy\" + END +\":\")\n",
    "print(\"f1-micro average: %f\" %dummies_f1_micro_opt['uniform'])\n",
    "print(\"f1-macro average: %f\" %dummies_f1_macro_opt['uniform'])\n",
    "\n",
    "print(\"\\nConfusion matrix for the \" + UNDERLINE + \"constant 0 strategy\" + END +\":\")\n",
    "print(\"f1-micro average: %f\" %dummies_f1_micro_opt['constant_0'])\n",
    "print(\"f1-macro average: %f\" %dummies_f1_macro_opt['constant_0'])\n",
    "\n",
    "print(\"\\nConfusion matrix for the \" + UNDERLINE + \"constant 1 strategy\" + END +\":\")\n",
    "print(\"f1-micro average: %f\" %dummies_f1_micro_opt['constant_1'])\n",
    "print(\"f1-macro average: %f\" %dummies_f1_macro_opt['constant_1'])\n",
    "\n",
    "print(\"\\nConfusion matrix for the \" + UNDERLINE + \"most frequent strategy\" + END +\":\")\n",
    "print(\"f1-micro average: %f\" %dummies_f1_micro_opt['most_frequent'])\n",
    "print(\"f1-macro average: %f\" %dummies_f1_macro_opt['most_frequent'])\n",
    "\n",
    "print(\"\\nConfusion matrix for the \" + UNDERLINE + \"stratified strategy\" + END +\":\")\n",
    "print(\"f1-micro average: %f\" %dummies_f1_micro_opt['stratified'])\n",
    "print(\"f1-macro average: %f\" %dummies_f1_macro_opt['stratified'])"
   ]
  },
  {
   "cell_type": "code",
   "execution_count": 0,
   "metadata": {
    "colab": {
     "base_uri": "https://localhost:8080/",
     "height": 1000
    },
    "colab_type": "code",
    "id": "Z-3H86-DYjGQ",
    "outputId": "600f34f8-0d4e-485f-af3c-1113a7fd2f5c"
   },
   "outputs": [
    {
     "data": {
      "image/png": "[encoded data removed]",
      "text/plain": [
       "<Figure size 720x720 with 1 Axes>"
      ]
     },
     "metadata": {
      "tags": []
     },
     "output_type": "display_data"
    },
    {
     "data": {
      "image/png": "[encoded data removed]",
      "text/plain": [
       "<Figure size 720x720 with 1 Axes>"
      ]
     },
     "metadata": {
      "tags": []
     },
     "output_type": "display_data"
    }
   ],
   "source": [
    "#Creating a barplot for the F1 micro averages\n",
    "x_micro_opt = [key for key in dummies_f1_micro_opt.keys()]\n",
    "y_micro_opt = [value for value in dummies_f1_micro_opt.values()]\n",
    "\n",
    "x = np.arange(len(y_micro_opt))\n",
    "x_shifted = [i + 0.4 for i in x]\n",
    "\n",
    "\n",
    "compare_bars(x, y_micro_opt, x_shifted, y_micro[:5], \"f1 micro score with dummy classifiers\", \"f1 micro score\", \\\n",
    "             x, x_micro_opt)\n",
    "\n",
    "compare_bars(x, y_macro_opt, x_shifted, y_macro[:5], \"f1 macro score with dummy classifiers\", \"fa micro score\", \\\n",
    "             x, x_micro_opt)\n"
   ]
  },
  {
   "cell_type": "markdown",
   "metadata": {
    "colab_type": "text",
    "id": "MaYstyhrc-Yw"
   },
   "source": [
    "We observe thath the ovesampling did not improve the metrics in the dummy classifier. Especially, in the stratified classifier, the metrics are lower because the distribution became more balanced."
   ]
  },
  {
   "cell_type": "markdown",
   "metadata": {
    "colab_type": "text",
    "id": "pxbmm48PT6ni"
   },
   "source": [
    "## Gaussian Naive Bayes classifier"
   ]
  },
  {
   "cell_type": "markdown",
   "metadata": {
    "colab_type": "text",
    "id": "-4Fvi3c2dTuv"
   },
   "source": [
    "Define a Gaussian classifier."
   ]
  },
  {
   "cell_type": "code",
   "execution_count": 0,
   "metadata": {
    "colab": {},
    "colab_type": "code",
    "id": "ZJUqAEWOVorH"
   },
   "outputs": [],
   "source": [
    "gnb = GaussianNB()"
   ]
  },
  {
   "cell_type": "markdown",
   "metadata": {
    "colab_type": "text",
    "id": "EhhDjahkHN96"
   },
   "source": [
    "- Usa a selector only"
   ]
  },
  {
   "cell_type": "code",
   "execution_count": 0,
   "metadata": {
    "colab": {
     "base_uri": "https://localhost:8080/",
     "height": 253
    },
    "colab_type": "code",
    "id": "k6A9FnhvW3q8",
    "outputId": "17bc2473-6ede-443f-dea4-92f540ebafeb"
   },
   "outputs": [
    {
     "name": "stderr",
     "output_type": "stream",
     "text": [
      "/usr/local/lib/python3.6/dist-packages/sklearn/utils/validation.py:724: DataConversionWarning: A column-vector y was passed when a 1d array was expected. Please change the shape of y to (n_samples, ), for example using ravel().\n",
      "  y = column_or_1d(y, warn=True)\n"
     ]
    },
    {
     "name": "stdout",
     "output_type": "stream",
     "text": [
      "Gaussian NB with selector\n",
      "f1-micro average: 0.073261\n",
      "f1-macro average: 0.073084\n",
      "Pipeline(memory='tmp',\n",
      "         steps=[('selector', VarianceThreshold(threshold=10000000.0)),\n",
      "                ('gnb', GaussianNB(priors=None, var_smoothing=1e-09))],\n",
      "         verbose=False)\n",
      "\n"
     ]
    },
    {
     "name": "stderr",
     "output_type": "stream",
     "text": [
      "/usr/local/lib/python3.6/dist-packages/sklearn/utils/validation.py:724: DataConversionWarning: A column-vector y was passed when a 1d array was expected. Please change the shape of y to (n_samples, ), for example using ravel().\n",
      "  y = column_or_1d(y, warn=True)\n"
     ]
    }
   ],
   "source": [
    "steps=[('selector', selector),('gnb', gnb)]\n",
    "grid_params={'selector__threshold':vthreshold}\n",
    "\n",
    "preds, ttime, best = grid_eval(X_train, X_test, y_train, y_test, steps, grid_params, 'f1_micro')\n",
    "\n",
    "gau_nb_f1_micro_sel = f1_score(y_test, preds, average=\"micro\")\n",
    "\n",
    "preds, ttime, best = grid_eval(X_train, X_test, y_train, y_test, steps, grid_params, 'f1_macro')\n",
    "\n",
    "gau_nb_f1_macro_sel = f1_score(y_test, preds, average=\"macro\")\n",
    "\n",
    "print(\"Gaussian NB with selector\")\n",
    "print(\"f1-micro average: %f\" %gau_nb_f1_micro_sel)\n",
    "print(\"f1-macro average: %f\" %gau_nb_f1_macro_sel)\n",
    "print(best)\n",
    "print()"
   ]
  },
  {
   "cell_type": "code",
   "execution_count": 0,
   "metadata": {
    "colab": {
     "base_uri": "https://localhost:8080/",
     "height": 1000
    },
    "colab_type": "code",
    "id": "z9kVAy2tAeSK",
    "outputId": "771faa34-0622-4f30-f729-4a5bd945f693"
   },
   "outputs": [
    {
     "data": {
      "image/png": "[encoded data removed]",
      "text/plain": [
       "<Figure size 720x720 with 1 Axes>"
      ]
     },
     "metadata": {
      "tags": []
     },
     "output_type": "display_data"
    },
    {
     "data": {
      "image/png": "[encoded data removed]",
      "text/plain": [
       "<Figure size 720x720 with 1 Axes>"
      ]
     },
     "metadata": {
      "tags": []
     },
     "output_type": "display_data"
    }
   ],
   "source": [
    "#Creating a barplot for the F1 micro averages\n",
    "compare_bars(1, gau_nb_f1_micro_sel, 2, gau_nb_f1_micro, \"f1 micro score with Geussian\", \"fa micro score\", \\\n",
    "             [1, 2] ,['Gaussian optimzied', 'Gaussian'])\n",
    "\n",
    "#Creating a barplot for the F1 macro averages\n",
    "compare_bars(1, gau_nb_f1_macro_sel, 2, gau_nb_f1_macro, \"f1 macro score with Geussian\", \"fa macro score\", \\\n",
    "             [1, 2] ,['Gaussian optimzied', 'Gaussian'])"
   ]
  },
  {
   "cell_type": "markdown",
   "metadata": {
    "colab_type": "text",
    "id": "1okrA4IqHchV"
   },
   "source": [
    "- Selector and normalization"
   ]
  },
  {
   "cell_type": "code",
   "execution_count": 0,
   "metadata": {
    "colab": {
     "base_uri": "https://localhost:8080/",
     "height": 289
    },
    "colab_type": "code",
    "id": "brUggUZ2Gupd",
    "outputId": "ea456d7d-f9c3-4461-eb4c-b289676be6c2"
   },
   "outputs": [
    {
     "name": "stderr",
     "output_type": "stream",
     "text": [
      "/usr/local/lib/python3.6/dist-packages/sklearn/utils/validation.py:724: DataConversionWarning: A column-vector y was passed when a 1d array was expected. Please change the shape of y to (n_samples, ), for example using ravel().\n",
      "  y = column_or_1d(y, warn=True)\n"
     ]
    },
    {
     "name": "stdout",
     "output_type": "stream",
     "text": [
      "Gaussian NB with selector and normalization\n",
      "f1-micro average: 0.073261\n",
      "f1-macro average: 0.073084\n",
      "Pipeline(memory='tmp',\n",
      "         steps=[('selector', VarianceThreshold(threshold=10000000.0)),\n",
      "                ('scaler',\n",
      "                 StandardScaler(copy=True, with_mean=True, with_std=True)),\n",
      "                ('gnb', GaussianNB(priors=None, var_smoothing=1e-09))],\n",
      "         verbose=False)\n",
      "\n"
     ]
    },
    {
     "name": "stderr",
     "output_type": "stream",
     "text": [
      "/usr/local/lib/python3.6/dist-packages/sklearn/utils/validation.py:724: DataConversionWarning: A column-vector y was passed when a 1d array was expected. Please change the shape of y to (n_samples, ), for example using ravel().\n",
      "  y = column_or_1d(y, warn=True)\n"
     ]
    }
   ],
   "source": [
    "steps=[('selector', selector),('scaler', scaler),('gnb', gnb)]\n",
    "grid_params={'selector__threshold':vthreshold}\n",
    "\n",
    "preds, ttime, best = grid_eval(X_train, X_test, y_train, y_test, steps, grid_params, 'f1_micro')\n",
    "\n",
    "gau_nb_f1_micro_sel_norm = f1_score(y_test, preds, average=\"micro\")\n",
    "\n",
    "preds, ttime, best = grid_eval(X_train, X_test, y_train, y_test, steps, grid_params, 'f1_macro')\n",
    "\n",
    "gau_nb_f1_macro_sel_norm = f1_score(y_test, preds, average=\"macro\")\n",
    "\n",
    "print(\"Gaussian NB with selector and normalization\")\n",
    "print(\"f1-micro average: %f\" %gau_nb_f1_micro_sel_norm)\n",
    "print(\"f1-macro average: %f\" %gau_nb_f1_macro_sel_norm)\n",
    "print(best)\n",
    "print()"
   ]
  },
  {
   "cell_type": "code",
   "execution_count": 0,
   "metadata": {
    "colab": {
     "base_uri": "https://localhost:8080/",
     "height": 1000
    },
    "colab_type": "code",
    "id": "_00kZn9NQ3HV",
    "outputId": "6acafc7f-fce1-4491-90e7-081efe11728f"
   },
   "outputs": [
    {
     "data": {
      "image/png": "[encoded data removed]",
      "text/plain": [
       "<Figure size 720x720 with 1 Axes>"
      ]
     },
     "metadata": {
      "tags": []
     },
     "output_type": "display_data"
    },
    {
     "data": {
      "image/png": "[encoded data removed]",
      "text/plain": [
       "<Figure size 720x720 with 1 Axes>"
      ]
     },
     "metadata": {
      "tags": []
     },
     "output_type": "display_data"
    }
   ],
   "source": [
    "#Creating a barplot for the F1 micro averages\n",
    "compare_bars(1, gau_nb_f1_micro_sel_norm, 2, gau_nb_f1_micro, \"f1 micro score with Geussian\", \"fa micro score\", \\\n",
    "             [1, 2] ,['Gaussian optimzied', 'Gaussian'])\n",
    "\n",
    "#Creating a barplot for the F1 macro averages\n",
    "compare_bars(1, gau_nb_f1_macro_sel_norm, 2, gau_nb_f1_macro, \"f1 macro score with Geussian\", \"fa macro score\", \\\n",
    "             [1, 2] ,['Gaussian optimzied', 'Gaussian'])\n"
   ]
  },
  {
   "cell_type": "markdown",
   "metadata": {
    "colab_type": "text",
    "id": "nZ3tJAqJHsGS"
   },
   "source": [
    "- Selector, normalization and oversampling"
   ]
  },
  {
   "cell_type": "code",
   "execution_count": 0,
   "metadata": {
    "colab": {
     "base_uri": "https://localhost:8080/",
     "height": 325
    },
    "colab_type": "code",
    "id": "x8YL8FX6Hv5k",
    "outputId": "7ec2c1b2-1b16-4be3-eade-aa6d646caf47"
   },
   "outputs": [
    {
     "name": "stderr",
     "output_type": "stream",
     "text": [
      "/usr/local/lib/python3.6/dist-packages/sklearn/utils/validation.py:724: DataConversionWarning: A column-vector y was passed when a 1d array was expected. Please change the shape of y to (n_samples, ), for example using ravel().\n",
      "  y = column_or_1d(y, warn=True)\n"
     ]
    },
    {
     "name": "stdout",
     "output_type": "stream",
     "text": [
      "Gaussian NB with selector, normalization and oversampling\n",
      "f1-micro average: 0.070650\n",
      "f1-macro average: 0.070394\n",
      "Pipeline(memory='tmp',\n",
      "         steps=[('selector', VarianceThreshold(threshold=10000000.0)),\n",
      "                ('scaler',\n",
      "                 StandardScaler(copy=True, with_mean=True, with_std=True)),\n",
      "                ('ros',\n",
      "                 RandomOverSampler(random_state=None, ratio=None,\n",
      "                                   return_indices=False,\n",
      "                                   sampling_strategy='auto')),\n",
      "                ('gnb', GaussianNB(priors=None, var_smoothing=1e-09))],\n",
      "         verbose=False)\n",
      "\n"
     ]
    }
   ],
   "source": [
    "steps=[('selector', selector),('scaler', scaler),('ros',ros),('gnb', gnb)]\n",
    "grid_params={'selector__threshold':vthreshold}\n",
    "\n",
    "preds, ttime, best = grid_eval(X_train, X_test, y_train, y_test, steps, grid_params, 'f1_micro')\n",
    "\n",
    "gau_nb_f1_micro_sel_norm_ov = f1_score(y_test, preds, average=\"micro\")\n",
    "\n",
    "preds, ttime, best = grid_eval(X_train, X_test, y_train, y_test, steps, grid_params, 'f1_macro')\n",
    "\n",
    "gau_nb_f1_macro_sel_norm_ov = f1_score(y_test, preds, average=\"macro\")\n",
    "\n",
    "print(\"Gaussian NB with selector, normalization and oversampling\")\n",
    "print(\"f1-micro average: %f\" %gau_nb_f1_micro_sel_norm_ov)\n",
    "print(\"f1-macro average: %f\" %gau_nb_f1_macro_sel_norm_ov)\n",
    "print(best)\n",
    "print()"
   ]
  },
  {
   "cell_type": "code",
   "execution_count": 0,
   "metadata": {
    "colab": {
     "base_uri": "https://localhost:8080/",
     "height": 1000
    },
    "colab_type": "code",
    "id": "MX5f6O_yQ_21",
    "outputId": "2714c7b5-f29b-4685-a4cb-2650ed7e77f9"
   },
   "outputs": [
    {
     "data": {
      "image/png": "[encoded data removed]",
      "text/plain": [
       "<Figure size 720x720 with 1 Axes>"
      ]
     },
     "metadata": {
      "tags": []
     },
     "output_type": "display_data"
    },
    {
     "data": {
      "image/png": "[encoded data removed]",
      "text/plain": [
       "<Figure size 720x720 with 1 Axes>"
      ]
     },
     "metadata": {
      "tags": []
     },
     "output_type": "display_data"
    }
   ],
   "source": [
    "#Creating a barplot for the F1 micro averages\n",
    "compare_bars(1, gau_nb_f1_micro_sel_norm_ov, 2, gau_nb_f1_micro, \"f1 micro score with Geussian\", \"fa micro score\", \\\n",
    "             [1, 2] ,['Gaussian optimzied', 'Gaussian'])\n",
    "\n",
    "#Creating a barplot for the F1 macro averages\n",
    "compare_bars(1, gau_nb_f1_macro_sel_norm_ov, 2, gau_nb_f1_macro, \"f1 macro score with Geussian\", \"fa macro score\", \\\n",
    "             [1, 2] ,['Gaussian optimzied', 'Gaussian'])\n"
   ]
  },
  {
   "cell_type": "markdown",
   "metadata": {
    "colab_type": "text",
    "id": "mtHtDS4jH8DC"
   },
   "source": [
    "- Selector, normalization, oversampling and PCA"
   ]
  },
  {
   "cell_type": "code",
   "execution_count": 0,
   "metadata": {
    "colab": {
     "base_uri": "https://localhost:8080/",
     "height": 397
    },
    "colab_type": "code",
    "id": "Dozfu0HKIBBq",
    "outputId": "41d5b60d-a108-4446-c05f-6a52b53b01db"
   },
   "outputs": [
    {
     "name": "stderr",
     "output_type": "stream",
     "text": [
      "/usr/local/lib/python3.6/dist-packages/sklearn/utils/validation.py:724: DataConversionWarning: A column-vector y was passed when a 1d array was expected. Please change the shape of y to (n_samples, ), for example using ravel().\n",
      "  y = column_or_1d(y, warn=True)\n"
     ]
    },
    {
     "name": "stdout",
     "output_type": "stream",
     "text": [
      "Gaussian NB with selector and normalization\n",
      "f1-micro average: 0.952772\n",
      "f1-macro average: 0.489527\n",
      "Pipeline(memory='tmp',\n",
      "         steps=[('selector', VarianceThreshold(threshold=0.0)),\n",
      "                ('scaler',\n",
      "                 StandardScaler(copy=True, with_mean=True, with_std=True)),\n",
      "                ('ros',\n",
      "                 RandomOverSampler(random_state=None, ratio=None,\n",
      "                                   return_indices=False,\n",
      "                                   sampling_strategy='auto')),\n",
      "                ('pca',\n",
      "                 PCA(copy=True, iterated_power='auto', n_components=5,\n",
      "                     random_state=None, svd_solver='auto', tol=0.0,\n",
      "                     whiten=False)),\n",
      "                ('gnb', GaussianNB(priors=None, var_smoothing=1e-09))],\n",
      "         verbose=False)\n",
      "\n"
     ]
    }
   ],
   "source": [
    "steps=[('selector', selector),('scaler', scaler),('ros',ros),('pca', pca), ('gnb', gnb)]\n",
    "grid_params={'selector__threshold':vthreshold, 'pca__n_components':n_components}\n",
    "\n",
    "preds, ttime, best = grid_eval(X_train, X_test, y_train, y_test, steps, grid_params, 'f1_micro')\n",
    "\n",
    "gau_nb_f1_micro_sel_norm_ov_pca = f1_score(y_test, preds, average=\"micro\")\n",
    "\n",
    "preds, ttime, best = grid_eval(X_train, X_test, y_train, y_test, steps, grid_params, 'f1_macro')\n",
    "\n",
    "gau_nb_f1_macro_sel_norm_ov_pca = f1_score(y_test, preds, average=\"macro\")\n",
    "\n",
    "print(\"Gaussian NB with selector and normalization\")\n",
    "print(\"f1-micro average: %f\" %gau_nb_f1_micro_sel_norm_ov_pca)\n",
    "print(\"f1-macro average: %f\" %gau_nb_f1_macro_sel_norm_ov_pca)\n",
    "print(best)\n",
    "print()"
   ]
  },
  {
   "cell_type": "code",
   "execution_count": 0,
   "metadata": {
    "colab": {
     "base_uri": "https://localhost:8080/",
     "height": 1000
    },
    "colab_type": "code",
    "id": "qeMRcW50ROXg",
    "outputId": "8b1f076c-99a3-4136-82ad-904351e2a356"
   },
   "outputs": [
    {
     "data": {
      "image/png": "[encoded data removed]",
      "text/plain": [
       "<Figure size 720x720 with 1 Axes>"
      ]
     },
     "metadata": {
      "tags": []
     },
     "output_type": "display_data"
    },
    {
     "data": {
      "image/png": "[encoded data removed]",
      "text/plain": [
       "<Figure size 720x720 with 1 Axes>"
      ]
     },
     "metadata": {
      "tags": []
     },
     "output_type": "display_data"
    }
   ],
   "source": [
    "#Creating a barplot for the F1 micro averages\n",
    "compare_bars(1, gau_nb_f1_micro_sel_norm_ov_pca, 2, gau_nb_f1_micro, \"f1 micro score with Geussian\", \"fa micro score\", \\\n",
    "             [1, 2] ,['Gaussian optimzied', 'Gaussian'])\n",
    "\n",
    "#Creating a barplot for the F1 macro averages\n",
    "compare_bars(1, gau_nb_f1_macro_sel_norm_ov_pca, 2, gau_nb_f1_macro, \"f1 macro score with Geussian\", \"fa macro score\", \\\n",
    "             [1, 2] ,['Gaussian optimzied', 'Gaussian'])"
   ]
  },
  {
   "cell_type": "markdown",
   "metadata": {
    "colab_type": "text",
    "id": "J-NUCv5GiZxk"
   },
   "source": [
    "- Only oversampling and PCA"
   ]
  },
  {
   "cell_type": "code",
   "execution_count": 0,
   "metadata": {
    "colab": {
     "base_uri": "https://localhost:8080/",
     "height": 287
    },
    "colab_type": "code",
    "id": "okXPFrvsiaHc",
    "outputId": "ff6a4976-0fda-4a6c-909c-c893a0a0949c"
   },
   "outputs": [
    {
     "name": "stdout",
     "output_type": "stream",
     "text": [
      "Gaussian NB with oversampling and pca\n",
      "f1-micro average: 0.079250\n",
      "f1-macro average: 0.079198\n",
      "Pipeline(memory='tmp',\n",
      "         steps=[('ros',\n",
      "                 RandomOverSampler(random_state=None, ratio=None,\n",
      "                                   return_indices=False,\n",
      "                                   sampling_strategy='auto')),\n",
      "                ('pca',\n",
      "                 PCA(copy=True, iterated_power='auto', n_components=5,\n",
      "                     random_state=None, svd_solver='auto', tol=0.0,\n",
      "                     whiten=False)),\n",
      "                ('gnb', GaussianNB(priors=None, var_smoothing=1e-09))],\n",
      "         verbose=False)\n",
      "\n"
     ]
    }
   ],
   "source": [
    "steps=[('ros',ros),('pca', pca), ('gnb', gnb)]\n",
    "grid_params={'pca__n_components':n_components}\n",
    "\n",
    "preds, ttime, best = grid_eval(X_train, X_test, y_train, y_test, steps, grid_params, 'f1_micro')\n",
    "\n",
    "gau_nb_f1_micro_ov_pca = f1_score(y_test, preds, average=\"micro\")\n",
    "\n",
    "preds, ttime, best = grid_eval(X_train, X_test, y_train, y_test, steps, grid_params, 'f1_macro')\n",
    "\n",
    "gau_nb_f1_macro_ov_pca = f1_score(y_test, preds, average=\"macro\")\n",
    "\n",
    "print(\"Gaussian NB with oversampling and pca\")\n",
    "print(\"f1-micro average: %f\" %gau_nb_f1_micro_ov_pca)\n",
    "print(\"f1-macro average: %f\" %gau_nb_f1_macro_ov_pca)\n",
    "print(best)\n",
    "print()"
   ]
  },
  {
   "cell_type": "code",
   "execution_count": 0,
   "metadata": {
    "colab": {
     "base_uri": "https://localhost:8080/",
     "height": 1000
    },
    "colab_type": "code",
    "id": "UKFTdnQbilzZ",
    "outputId": "582c4bec-a2f2-4bc0-fe06-5268c273e9a0"
   },
   "outputs": [
    {
     "data": {
      "image/png": "[encoded data removed]",
      "text/plain": [
       "<Figure size 720x720 with 1 Axes>"
      ]
     },
     "metadata": {
      "tags": []
     },
     "output_type": "display_data"
    },
    {
     "data": {
      "image/png": "[encoded data removed]",
      "text/plain": [
       "<Figure size 720x720 with 1 Axes>"
      ]
     },
     "metadata": {
      "tags": []
     },
     "output_type": "display_data"
    }
   ],
   "source": [
    "#Creating a barplot for the F1 micro averages\n",
    "compare_bars(1, gau_nb_f1_micro_ov_pca, 2, gau_nb_f1_micro, \"f1 micro score with Geussian\", \"fa micro score\", \\\n",
    "             [1, 2] ,['Gaussian optimzied', 'Gaussian'])\n",
    "\n",
    "#Creating a barplot for the F1 macro averages\n",
    "compare_bars(1, gau_nb_f1_macro_ov_pca, 2, gau_nb_f1_macro, \"f1 macro score with Geussian\", \"fa macro score\", \\\n",
    "             [1, 2] ,['Gaussian optimzied', 'Gaussian'])"
   ]
  },
  {
   "cell_type": "markdown",
   "metadata": {
    "colab_type": "text",
    "id": "0myqUAVjVpPR"
   },
   "source": [
    "## k-NN classifier"
   ]
  },
  {
   "cell_type": "markdown",
   "metadata": {
    "colab_type": "text",
    "id": "2_FYwoymjyJH"
   },
   "source": [
    "Define a k-nn classifier without parameters."
   ]
  },
  {
   "cell_type": "code",
   "execution_count": 0,
   "metadata": {
    "colab": {},
    "colab_type": "code",
    "id": "lfTd7nVUVrnf"
   },
   "outputs": [],
   "source": [
    "neigh = KNeighborsClassifier()"
   ]
  },
  {
   "cell_type": "markdown",
   "metadata": {
    "colab_type": "text",
    "id": "Mkmn9n0jJ5Z9"
   },
   "source": [
    "Define hyperparameters for KNN."
   ]
  },
  {
   "cell_type": "code",
   "execution_count": 0,
   "metadata": {
    "colab": {},
    "colab_type": "code",
    "id": "iVFgpfXuJ52t"
   },
   "outputs": [],
   "source": [
    "k = [3, 5, 7]\n",
    "weights = ['uniform','distance']\n",
    "metric = ['euclidean','manhattan']"
   ]
  },
  {
   "cell_type": "markdown",
   "metadata": {
    "colab_type": "text",
    "id": "Dtd0jfmfR12a"
   },
   "source": [
    "- k-nn without preprocessing"
   ]
  },
  {
   "cell_type": "code",
   "execution_count": 0,
   "metadata": {
    "colab": {
     "base_uri": "https://localhost:8080/",
     "height": 109
    },
    "colab_type": "code",
    "id": "WRSM5EIcR0PU",
    "outputId": "17ed9dee-9ea0-4149-cf35-6635e35a62ca"
   },
   "outputs": [
    {
     "name": "stderr",
     "output_type": "stream",
     "text": [
      "/usr/local/lib/python3.6/dist-packages/imblearn/pipeline.py:239: DataConversionWarning: A column-vector y was passed when a 1d array was expected. Please change the shape of y to (n_samples, ), for example using ravel().\n",
      "  self._final_estimator.fit(Xt, yt, **fit_params)\n",
      "/usr/local/lib/python3.6/dist-packages/imblearn/pipeline.py:239: DataConversionWarning: A column-vector y was passed when a 1d array was expected. Please change the shape of y to (n_samples, ), for example using ravel().\n",
      "  self._final_estimator.fit(Xt, yt, **fit_params)\n"
     ]
    }
   ],
   "source": [
    "steps=[('neigh', neigh)]\n",
    "grid_params={'neigh__n_neighbors':k, 'neigh__weights':weights, 'neigh__metric':metric}\n",
    "\n",
    "preds_micro, ttime_micro, best_micro = grid_eval(X_train, X_test, y_train, y_test, steps, grid_params, 'f1_micro')\n",
    "\n",
    "preds_macro, ttime_macro, best_macro = grid_eval(X_train, X_test, y_train, y_test, steps, grid_params, 'f1_macro')\n",
    " \n"
   ]
  },
  {
   "cell_type": "code",
   "execution_count": 0,
   "metadata": {
    "colab": {},
    "colab_type": "code",
    "id": "boKiPdmMR0xj"
   },
   "outputs": [],
   "source": [
    "neigh_f1_micro_opt = f1_score(y_test, preds_micro, average=\"micro\")\n",
    "neigh_f1_macro_opt = f1_score(y_test, preds_macro, average=\"macro\")"
   ]
  },
  {
   "cell_type": "code",
   "execution_count": 0,
   "metadata": {
    "colab": {
     "base_uri": "https://localhost:8080/",
     "height": 395
    },
    "colab_type": "code",
    "id": "TrleXFFcR1Il",
    "outputId": "58a06a68-99d3-4e66-d31c-f962492e3f98"
   },
   "outputs": [
    {
     "name": "stdout",
     "output_type": "stream",
     "text": [
      "k-NN classifier without preprocessing\n",
      "F1 micro: 0.954999\n",
      "Time of fit and predict: 138.336016\n",
      "Best model in maximizing f1-micro\n",
      "Pipeline(memory='tmp',\n",
      "         steps=[('neigh',\n",
      "                 KNeighborsClassifier(algorithm='auto', leaf_size=30,\n",
      "                                      metric='manhattan', metric_params=None,\n",
      "                                      n_jobs=None, n_neighbors=7, p=2,\n",
      "                                      weights='uniform'))],\n",
      "         verbose=False)\n",
      "F1 macro: 0.574917\n",
      "Time of fit and predict: 137.976386\n",
      "Best model in maximizing f1-macro\n",
      "Pipeline(memory='tmp',\n",
      "         steps=[('neigh',\n",
      "                 KNeighborsClassifier(algorithm='auto', leaf_size=30,\n",
      "                                      metric='manhattan', metric_params=None,\n",
      "                                      n_jobs=None, n_neighbors=3, p=2,\n",
      "                                      weights='uniform'))],\n",
      "         verbose=False)\n"
     ]
    }
   ],
   "source": [
    "print(\"k-NN classifier without preprocessing\")\n",
    "\n",
    "print('F1 micro: %f' %neigh_f1_micro_opt)\n",
    "print('Time of fit and predict: %f' %ttime_micro)\n",
    "print('Best model in maximizing f1-micro')\n",
    "print(best_micro)\n",
    "\n",
    "\n",
    "print('F1 macro: %f' %neigh_f1_macro_opt)\n",
    "print('Time of fit and predict: %f' %ttime_macro)\n",
    "print('Best model in maximizing f1-macro')\n",
    "print(best_macro)"
   ]
  },
  {
   "cell_type": "code",
   "execution_count": 0,
   "metadata": {
    "colab": {
     "base_uri": "https://localhost:8080/",
     "height": 1000
    },
    "colab_type": "code",
    "id": "Q6SjbeBzSKBA",
    "outputId": "b6a76e73-d199-42c4-b32d-9613e8bc60ad"
   },
   "outputs": [
    {
     "data": {
      "image/png": "[encoded data removed]",
      "text/plain": [
       "<Figure size 720x720 with 1 Axes>"
      ]
     },
     "metadata": {
      "tags": []
     },
     "output_type": "display_data"
    },
    {
     "data": {
      "image/png": "[encoded data removed]",
      "text/plain": [
       "<Figure size 720x720 with 1 Axes>"
      ]
     },
     "metadata": {
      "tags": []
     },
     "output_type": "display_data"
    }
   ],
   "source": [
    "#Creating a barplot for the F1 micro averages\n",
    "compare_bars(1, neigh_f1_micro_opt, 2, neigh_f1_micro, \"f1 micro score with k-nn\", \"f1 micro score\", \\\n",
    "             [1, 2] ,['k-nn optimzied', 'k-nn'])\n",
    "\n",
    "#Creating a barplot for the F1 macro averages\n",
    "compare_bars(1, neigh_f1_macro_opt, 2, neigh_f1_macro, \"f1 macro score with k-nn\", \"f1 macro score\", \\\n",
    "             [1, 2] ,['k-nn optimzied', 'k-nn'])"
   ]
  },
  {
   "cell_type": "markdown",
   "metadata": {
    "colab_type": "text",
    "id": "wOaOmUs4J-nR"
   },
   "source": [
    "- Selector only"
   ]
  },
  {
   "cell_type": "code",
   "execution_count": 0,
   "metadata": {
    "colab": {},
    "colab_type": "code",
    "id": "a3d0EvWmJ_4a"
   },
   "outputs": [],
   "source": [
    "steps=[('selector', selector), ('neigh', neigh)]\n",
    "grid_params={'selector__threshold':vthreshold, 'neigh__n_neighbors':k, 'neigh__weights':weights, 'neigh__metric':metric}\n",
    "\n",
    "preds_micro, ttime_micro, best_micro = grid_eval(X_train, X_test, y_train, y_test, steps, grid_params, 'f1_micro')\n",
    "\n",
    "preds_macro, ttime_macro, best_macro = grid_eval(X_train, X_test, y_train, y_test, steps, grid_params, 'f1_macro')\n"
   ]
  },
  {
   "cell_type": "code",
   "execution_count": 0,
   "metadata": {
    "colab": {},
    "colab_type": "code",
    "id": "X60aayhdvCdJ"
   },
   "outputs": [],
   "source": [
    "neigh_f1_micro_sel = f1_score(y_test, preds_micro, average=\"micro\")\n",
    "neigh_f1_macro_sel = f1_score(y_test, preds_macro, average=\"macro\")"
   ]
  },
  {
   "cell_type": "code",
   "execution_count": 0,
   "metadata": {
    "colab": {
     "base_uri": "https://localhost:8080/",
     "height": 431
    },
    "colab_type": "code",
    "id": "mqDgIjr9GXCL",
    "outputId": "cc4668f9-1605-4bd0-b377-0de2ae27e2c6"
   },
   "outputs": [
    {
     "name": "stdout",
     "output_type": "stream",
     "text": [
      "k-NN classifier using Variance Thresholder\n",
      "F1 micro: 0.950468\n",
      "Time of fit and predict: 325.870107\n",
      "Best model in maximizing f1-micro\n",
      "Pipeline(memory='tmp',\n",
      "         steps=[('selector', VarianceThreshold(threshold=5000000.0)),\n",
      "                ('neigh',\n",
      "                 KNeighborsClassifier(algorithm='auto', leaf_size=30,\n",
      "                                      metric='manhattan', metric_params=None,\n",
      "                                      n_jobs=None, n_neighbors=7, p=2,\n",
      "                                      weights='uniform'))],\n",
      "         verbose=False)\n",
      "F1 macro: 0.505087\n",
      "Time of fit and predict: 329.104980\n",
      "Best model in maximizing f1-macro\n",
      "Pipeline(memory='tmp',\n",
      "         steps=[('selector', VarianceThreshold(threshold=0.0)),\n",
      "                ('neigh',\n",
      "                 KNeighborsClassifier(algorithm='auto', leaf_size=30,\n",
      "                                      metric='manhattan', metric_params=None,\n",
      "                                      n_jobs=None, n_neighbors=3, p=2,\n",
      "                                      weights='distance'))],\n",
      "         verbose=False)\n"
     ]
    }
   ],
   "source": [
    "print(\"k-NN classifier using Variance Thresholder\")\n",
    "\n",
    "print('F1 micro: %f' %neigh_f1_micro_sel)\n",
    "print('Time of fit and predict: %f' %ttime_micro)\n",
    "print('Best model in maximizing f1-micro')\n",
    "print(best_micro)\n",
    "\n",
    "\n",
    "print('F1 macro: %f' %neigh_f1_macro_sel)\n",
    "print('Time of fit and predict: %f' %ttime_macro)\n",
    "print('Best model in maximizing f1-macro')\n",
    "print(best_macro)"
   ]
  },
  {
   "cell_type": "code",
   "execution_count": 0,
   "metadata": {
    "colab": {
     "base_uri": "https://localhost:8080/",
     "height": 1000
    },
    "colab_type": "code",
    "id": "NAIKqepgYllu",
    "outputId": "dc0d5e20-74db-4599-b296-b0cd2a21b0bb"
   },
   "outputs": [
    {
     "data": {
      "image/png": "[encoded data removed]",
      "text/plain": [
       "<Figure size 720x720 with 1 Axes>"
      ]
     },
     "metadata": {
      "tags": []
     },
     "output_type": "display_data"
    },
    {
     "data": {
      "image/png": "[encoded data removed]",
      "text/plain": [
       "<Figure size 720x720 with 1 Axes>"
      ]
     },
     "metadata": {
      "tags": []
     },
     "output_type": "display_data"
    }
   ],
   "source": [
    "#Creating a barplot for the F1 micro averages\n",
    "compare_bars(1, neigh_f1_micro_sel, 2, neigh_f1_micro, \"f1 micro score with k-nn\", \"f1 micro score\", \\\n",
    "             [1, 2] ,['k-nn optimzied', 'k-nn'])\n",
    "\n",
    "#Creating a barplot for the F1 macro averages\n",
    "compare_bars(1, neigh_f1_macro_sel, 2, neigh_f1_macro, \"f1 macro score with k-nn\", \"f1 macro score\", \\\n",
    "             [1, 2] ,['k-nn optimzied', 'k-nn'])"
   ]
  },
  {
   "cell_type": "markdown",
   "metadata": {
    "colab_type": "text",
    "id": "i6bV34D6HBQG"
   },
   "source": [
    "- Selector and scaler"
   ]
  },
  {
   "cell_type": "code",
   "execution_count": 0,
   "metadata": {
    "colab": {},
    "colab_type": "code",
    "id": "QqrS_2L7yICy"
   },
   "outputs": [],
   "source": [
    "steps=[('selector', selector), ('scaler', scaler), ('neigh', neigh)]\n",
    "grid_params={'selector__threshold':vthreshold, 'neigh__n_neighbors':k, 'neigh__weights':weights, 'neigh__metric':metric}\n",
    "\n",
    "preds_micro, ttime_micro, best_micro = grid_eval(X_train, X_test, y_train, y_test, steps, grid_params, 'f1_micro')\n",
    "\n",
    "\n",
    "preds_macro, ttime_macro, best_macro = grid_eval(X_train, X_test, y_train, y_test, steps, grid_params, 'f1_macro')\n"
   ]
  },
  {
   "cell_type": "code",
   "execution_count": 0,
   "metadata": {
    "colab": {},
    "colab_type": "code",
    "id": "bv24-D3Swvje"
   },
   "outputs": [],
   "source": [
    "neigh_f1_micro_sel_norm = f1_score(y_test, preds_micro, average=\"micro\")\n",
    "neigh_f1_macro_sel_norm = f1_score(y_test, preds_macro, average=\"macro\")"
   ]
  },
  {
   "cell_type": "code",
   "execution_count": 0,
   "metadata": {
    "colab": {
     "base_uri": "https://localhost:8080/",
     "height": 503
    },
    "colab_type": "code",
    "id": "4hLY8EhyHUal",
    "outputId": "72a9c8e7-c587-4faa-f130-304f6bb31962"
   },
   "outputs": [
    {
     "name": "stdout",
     "output_type": "stream",
     "text": [
      "k-NN classifier using Variance Thresholder and Normalization\n",
      "F1 micro: 0.947857\n",
      "Time of fit and predict: 943.399189\n",
      "Best model in maximizing f1-micro\n",
      "Pipeline(memory='tmp',\n",
      "         steps=[('selector', VarianceThreshold(threshold=10000000.0)),\n",
      "                ('scaler',\n",
      "                 StandardScaler(copy=True, with_mean=True, with_std=True)),\n",
      "                ('neigh',\n",
      "                 KNeighborsClassifier(algorithm='auto', leaf_size=30,\n",
      "                                      metric='manhattan', metric_params=None,\n",
      "                                      n_jobs=None, n_neighbors=7, p=2,\n",
      "                                      weights='uniform'))],\n",
      "         verbose=False)\n",
      "F1 macro: 0.505802\n",
      "Time of fit and predict: 949.282986\n",
      "Best model in maximizing f1-macro\n",
      "Pipeline(memory='tmp',\n",
      "         steps=[('selector', VarianceThreshold(threshold=10000000.0)),\n",
      "                ('scaler',\n",
      "                 StandardScaler(copy=True, with_mean=True, with_std=True)),\n",
      "                ('neigh',\n",
      "                 KNeighborsClassifier(algorithm='auto', leaf_size=30,\n",
      "                                      metric='manhattan', metric_params=None,\n",
      "                                      n_jobs=None, n_neighbors=3, p=2,\n",
      "                                      weights='uniform'))],\n",
      "         verbose=False)\n"
     ]
    }
   ],
   "source": [
    "print(\"k-NN classifier using Variance Thresholder and Normalization\")\n",
    "\n",
    "print('F1 micro: %f' %neigh_f1_micro_sel_norm)\n",
    "print('Time of fit and predict: %f' %ttime_micro)\n",
    "print('Best model in maximizing f1-micro')\n",
    "print(best_micro)\n",
    "\n",
    "\n",
    "print('F1 macro: %f' %neigh_f1_macro_sel_norm)\n",
    "print('Time of fit and predict: %f' %ttime_macro)\n",
    "print('Best model in maximizing f1-macro')\n",
    "print(best_macro)"
   ]
  },
  {
   "cell_type": "code",
   "execution_count": 0,
   "metadata": {
    "colab": {
     "base_uri": "https://localhost:8080/",
     "height": 1000
    },
    "colab_type": "code",
    "id": "ze-OAyiTyI1i",
    "outputId": "62d5a14e-7ebe-4cc1-dd5d-a3f9a0b13658"
   },
   "outputs": [
    {
     "data": {
      "image/png": "[encoded data removed]",
      "text/plain": [
       "<Figure size 720x720 with 1 Axes>"
      ]
     },
     "metadata": {
      "tags": []
     },
     "output_type": "display_data"
    },
    {
     "data": {
      "image/png": "[encoded data removed]",
      "text/plain": [
       "<Figure size 720x720 with 1 Axes>"
      ]
     },
     "metadata": {
      "tags": []
     },
     "output_type": "display_data"
    }
   ],
   "source": [
    "#Creating a barplot for the F1 micro averages\n",
    "compare_bars(1, neigh_f1_micro_sel_norm, 2, neigh_f1_micro, \"f1 micro score with k-nn\", \"f1 micro score\", \\\n",
    "             [1, 2] ,['k-nn optimzied', 'k-nn'])\n",
    "\n",
    "#Creating a barplot for the F1 macro averages\n",
    "compare_bars(1, neigh_f1_macro_sel_norm, 2, neigh_f1_macro, \"f1 macro score with k-nn\", \"f1 macro score\", \\\n",
    "             [1, 2] ,['k-nn optimzied', 'k-nn'])"
   ]
  },
  {
   "cell_type": "markdown",
   "metadata": {
    "colab_type": "text",
    "id": "qPk2At-nHSE0"
   },
   "source": [
    "- Selector, normalization and oversampling"
   ]
  },
  {
   "cell_type": "code",
   "execution_count": 0,
   "metadata": {
    "colab": {},
    "colab_type": "code",
    "id": "lLtziiCP4SS-"
   },
   "outputs": [],
   "source": [
    "steps=[('selector', selector), ('scaler', scaler), ('ros', ros), ('neigh', neigh)]\n",
    "grid_params={'selector__threshold':vthreshold, 'neigh__n_neighbors':k, 'neigh__weights':weights, 'neigh__metric':metric}\n",
    "\n",
    "preds_micro, ttime_micro, best_micro = grid_eval(X_train, X_test, y_train, y_test, steps, grid_params, 'f1_micro')\n",
    "\n",
    "\n",
    "preds_macro, ttime_macro, best_macro = grid_eval(X_train, X_test, y_train, y_test, steps, grid_params, 'f1_macro')\n"
   ]
  },
  {
   "cell_type": "code",
   "execution_count": 0,
   "metadata": {
    "colab": {},
    "colab_type": "code",
    "id": "mHONv2_aybj7"
   },
   "outputs": [],
   "source": [
    "neigh_f1_micro_sel_norm_ros = f1_score(y_test, preds_micro, average=\"micro\")\n",
    "neigh_f1_macro_sel_norm_ros = f1_score(y_test, preds_macro, average=\"macro\")"
   ]
  },
  {
   "cell_type": "code",
   "execution_count": 0,
   "metadata": {
    "colab": {
     "base_uri": "https://localhost:8080/",
     "height": 647
    },
    "colab_type": "code",
    "id": "OhPsn2jfHcH9",
    "outputId": "979aba0b-b80e-4e59-aa0c-c8ce8f6cd663"
   },
   "outputs": [
    {
     "name": "stdout",
     "output_type": "stream",
     "text": [
      "k-NN classifier using Variance Thresholder, Normalization and Oversampling\n",
      "F1 micro: 0.883351\n",
      "Time of fit and predict: 1355.501502\n",
      "Best model in maximizing f1-micro\n",
      "Pipeline(memory='tmp',\n",
      "         steps=[('selector', VarianceThreshold(threshold=0.0)),\n",
      "                ('scaler',\n",
      "                 StandardScaler(copy=True, with_mean=True, with_std=True)),\n",
      "                ('ros',\n",
      "                 RandomOverSampler(random_state=None, ratio=None,\n",
      "                                   return_indices=False,\n",
      "                                   sampling_strategy='auto')),\n",
      "                ('neigh',\n",
      "                 KNeighborsClassifier(algorithm='auto', leaf_size=30,\n",
      "                                      metric='manhattan', metric_params=None,\n",
      "                                      n_jobs=None, n_neighbors=3, p=2,\n",
      "                                      weights='uniform'))],\n",
      "         verbose=False)\n",
      "F1 macro: 0.498631\n",
      "Time of fit and predict: 1222.349464\n",
      "Best model in maximizing f1-macro\n",
      "Pipeline(memory='tmp',\n",
      "         steps=[('selector', VarianceThreshold(threshold=0.0)),\n",
      "                ('scaler',\n",
      "                 StandardScaler(copy=True, with_mean=True, with_std=True)),\n",
      "                ('ros',\n",
      "                 RandomOverSampler(random_state=None, ratio=None,\n",
      "                                   return_indices=False,\n",
      "                                   sampling_strategy='auto')),\n",
      "                ('neigh',\n",
      "                 KNeighborsClassifier(algorithm='auto', leaf_size=30,\n",
      "                                      metric='manhattan', metric_params=None,\n",
      "                                      n_jobs=None, n_neighbors=3, p=2,\n",
      "                                      weights='uniform'))],\n",
      "         verbose=False)\n"
     ]
    }
   ],
   "source": [
    "print(\"k-NN classifier using Variance Thresholder, Normalization and Oversampling\")\n",
    "\n",
    "print('F1 micro: %f' %neigh_f1_micro_sel_norm_ros)\n",
    "print('Time of fit and predict: %f' %ttime_micro)\n",
    "print('Best model in maximizing f1-micro')\n",
    "print(best_micro)\n",
    "\n",
    "\n",
    "print('F1 macro: %f' %neigh_f1_macro_sel_norm_ros)\n",
    "print('Time of fit and predict: %f' %ttime_macro)\n",
    "print('Best model in maximizing f1-macro')\n",
    "print(best_macro)"
   ]
  },
  {
   "cell_type": "code",
   "execution_count": 0,
   "metadata": {
    "colab": {
     "base_uri": "https://localhost:8080/",
     "height": 1000
    },
    "colab_type": "code",
    "id": "5XkwYdYB4lqE",
    "outputId": "99ccf031-8635-4f4f-f522-e7c9824c6c27"
   },
   "outputs": [
    {
     "data": {
      "image/png": "[encoded data removed]",
      "text/plain": [
       "<Figure size 720x720 with 1 Axes>"
      ]
     },
     "metadata": {
      "tags": []
     },
     "output_type": "display_data"
    },
    {
     "data": {
      "image/png": "[encoded data removed]",
      "text/plain": [
       "<Figure size 720x720 with 1 Axes>"
      ]
     },
     "metadata": {
      "tags": []
     },
     "output_type": "display_data"
    }
   ],
   "source": [
    "#Creating a barplot for the F1 micro averages\n",
    "compare_bars(1, neigh_f1_micro_sel_norm_ros, 2, neigh_f1_micro, \"f1 micro score with k-nn\", \"f1 micro score\", \\\n",
    "             [1, 2] ,['k-nn optimzied', 'k-nn'])\n",
    "\n",
    "#Creating a barplot for the F1 macro averages\n",
    "compare_bars(1, neigh_f1_macro_sel_norm_ros, 2, neigh_f1_macro, \"f1 macro score with k-nn\", \"f1 macro score\", \\\n",
    "             [1, 2] ,['k-nn optimzied', 'k-nn'])"
   ]
  },
  {
   "cell_type": "markdown",
   "metadata": {
    "colab_type": "text",
    "id": "qjmrnmMrHVpX"
   },
   "source": [
    "- Selection, normalization, oversamping and PCA"
   ]
  },
  {
   "cell_type": "code",
   "execution_count": 0,
   "metadata": {
    "colab": {},
    "colab_type": "code",
    "id": "L7hCjDsHHbhA"
   },
   "outputs": [],
   "source": [
    "steps=[('selector', selector), ('scaler', scaler), ('ros', ros), ('pca', pca), ('neigh', neigh)]\n",
    "grid_params={'selector__threshold':vthreshold, 'neigh__n_neighbors':k, 'neigh__weights':weights, 'neigh__metric':metric}\n",
    "\n",
    "preds_micro, ttime_micro, best_micro = grid_eval(X_train, X_test, y_train, y_test, steps, grid_params, 'f1_micro')\n",
    "\n",
    "\n",
    "preds_macro, ttime_macro, best_macro = grid_eval(X_train, X_test, y_train, y_test, steps, grid_params, 'f1_macro')\n"
   ]
  },
  {
   "cell_type": "code",
   "execution_count": 0,
   "metadata": {
    "colab": {},
    "colab_type": "code",
    "id": "9DfjHdFY9N_C"
   },
   "outputs": [],
   "source": [
    "neigh_f1_micro_sel_norm_ros_pca = f1_score(y_test, preds_micro, average=\"micro\")\n",
    "neigh_f1_macro_sel_norm_ros_pca = f1_score(y_test, preds_macro, average=\"macro\")"
   ]
  },
  {
   "cell_type": "code",
   "execution_count": 0,
   "metadata": {
    "colab": {
     "base_uri": "https://localhost:8080/",
     "height": 791
    },
    "colab_type": "code",
    "id": "sEpEOpiRHl-M",
    "outputId": "6cdfd16c-ac32-4e19-86cf-33d4d565ff47"
   },
   "outputs": [
    {
     "name": "stdout",
     "output_type": "stream",
     "text": [
      "k-NN classifier using Variance Thresholder, Normalization, Oversampling and PCA\n",
      "F1 micro: 0.887805\n",
      "Time of fit and predict: 980.935765\n",
      "Best model in maximizing f1-micro\n",
      "Pipeline(memory='tmp',\n",
      "         steps=[('selector', VarianceThreshold(threshold=0.0)),\n",
      "                ('scaler',\n",
      "                 StandardScaler(copy=True, with_mean=True, with_std=True)),\n",
      "                ('ros',\n",
      "                 RandomOverSampler(random_state=None, ratio=None,\n",
      "                                   return_indices=False,\n",
      "                                   sampling_strategy='auto')),\n",
      "                ('pca',\n",
      "                 PCA(copy=True, iterated_power='auto', n_components=None,\n",
      "                     random_state=None, svd_solver='auto', tol=0.0,\n",
      "                     whiten=False)),\n",
      "                ('neigh',\n",
      "                 KNeighborsClassifier(algorithm='auto', leaf_size=30,\n",
      "                                      metric='manhattan', metric_params=None,\n",
      "                                      n_jobs=None, n_neighbors=3, p=2,\n",
      "                                      weights='uniform'))],\n",
      "         verbose=False)\n",
      "F1 macro: 0.499189\n",
      "Time of fit and predict: 942.190864\n",
      "Best model in maximizing f1-macro\n",
      "Pipeline(memory='tmp',\n",
      "         steps=[('selector', VarianceThreshold(threshold=0.0)),\n",
      "                ('scaler',\n",
      "                 StandardScaler(copy=True, with_mean=True, with_std=True)),\n",
      "                ('ros',\n",
      "                 RandomOverSampler(random_state=None, ratio=None,\n",
      "                                   return_indices=False,\n",
      "                                   sampling_strategy='auto')),\n",
      "                ('pca',\n",
      "                 PCA(copy=True, iterated_power='auto', n_components=None,\n",
      "                     random_state=None, svd_solver='auto', tol=0.0,\n",
      "                     whiten=False)),\n",
      "                ('neigh',\n",
      "                 KNeighborsClassifier(algorithm='auto', leaf_size=30,\n",
      "                                      metric='manhattan', metric_params=None,\n",
      "                                      n_jobs=None, n_neighbors=3, p=2,\n",
      "                                      weights='uniform'))],\n",
      "         verbose=False)\n"
     ]
    }
   ],
   "source": [
    "print(\"k-NN classifier using Variance Thresholder, Normalization, Oversampling and PCA\")\n",
    "\n",
    "print('F1 micro: %f' %neigh_f1_micro_sel_norm_ros_pca)\n",
    "print('Time of fit and predict: %f' %ttime_micro)\n",
    "print('Best model in maximizing f1-micro')\n",
    "print(best_micro)\n",
    "\n",
    "\n",
    "print('F1 macro: %f' %neigh_f1_macro_sel_norm_ros_pca)\n",
    "print('Time of fit and predict: %f' %ttime_macro)\n",
    "print('Best model in maximizing f1-macro')\n",
    "print(best_macro)"
   ]
  },
  {
   "cell_type": "code",
   "execution_count": 0,
   "metadata": {
    "colab": {
     "base_uri": "https://localhost:8080/",
     "height": 1000
    },
    "colab_type": "code",
    "id": "AYTuKA1A9V8L",
    "outputId": "e22a86f2-f06d-4dce-ad02-1d05a7034ad1"
   },
   "outputs": [
    {
     "data": {
      "image/png": "[encoded data removed]",
      "text/plain": [
       "<Figure size 720x720 with 1 Axes>"
      ]
     },
     "metadata": {
      "tags": []
     },
     "output_type": "display_data"
    },
    {
     "data": {
      "image/png": "[encoded data removed]",
      "text/plain": [
       "<Figure size 720x720 with 1 Axes>"
      ]
     },
     "metadata": {
      "tags": []
     },
     "output_type": "display_data"
    }
   ],
   "source": [
    "#Creating a barplot for the F1 micro averages\n",
    "compare_bars(1, neigh_f1_micro_sel_norm_ros_pca, 2, neigh_f1_micro, \"f1 micro score with k-nn\", \"f1 micro score\", \\\n",
    "             [1, 2] ,[' k-nn optimzied', 'k-nn'])\n",
    "\n",
    "#Creating a barplot for the F1 macro averages\n",
    "compare_bars(1, neigh_f1_macro_sel_norm_ros_pca, 2, neigh_f1_macro, \"f1 macro score with k-nn\", \"f1 macro score\", \\\n",
    "             [1, 2] ,['k-nn optimzied', 'k-nn'])"
   ]
  },
  {
   "cell_type": "markdown",
   "metadata": {
    "colab_type": "text",
    "id": "tApSKMjgVsy1"
   },
   "source": [
    "## MLP classifier"
   ]
  },
  {
   "cell_type": "markdown",
   "metadata": {
    "colab_type": "text",
    "id": "Mv0M8yLf1NjK"
   },
   "source": [
    "- Define a Multi-layer Perceptron classifier without any parameter."
   ]
  },
  {
   "cell_type": "code",
   "execution_count": 0,
   "metadata": {
    "colab": {},
    "colab_type": "code",
    "id": "q43MG5NNVtLf"
   },
   "outputs": [],
   "source": [
    "mlp =  MLPClassifier()"
   ]
  },
  {
   "cell_type": "markdown",
   "metadata": {
    "colab_type": "text",
    "id": "qMQHqIxumbFJ"
   },
   "source": [
    "- Define the possible hyperparameters for Grid Search."
   ]
  },
  {
   "cell_type": "code",
   "execution_count": 0,
   "metadata": {
    "colab": {},
    "colab_type": "code",
    "id": "b0L4_gyrXIMT"
   },
   "outputs": [],
   "source": [
    "hidden_layer_sizes = [4, 8]\n",
    "activations = ['logistic', 'tanh', 'relu']\n",
    "solvers = ['lbfgs', 'sgd', 'adam']\n",
    "max_iters = [50, 100]\n",
    "learning_rates = ['constant', 'invscaling', 'adaptive']\n",
    "alphas = [0.001, 0.0001]"
   ]
  },
  {
   "cell_type": "markdown",
   "metadata": {
    "colab_type": "text",
    "id": "VBO3p9woydsl"
   },
   "source": [
    "**1. MLP without preprocessing**"
   ]
  },
  {
   "cell_type": "code",
   "execution_count": 0,
   "metadata": {
    "colab": {},
    "colab_type": "code",
    "id": "7_hRMJzCyeBv"
   },
   "outputs": [],
   "source": [
    "steps=[('mlp', mlp)]\n",
    "grid_params = {}\n",
    "grid_params['mlp__hidden_layer_sizes'] = hidden_layer_sizes\n",
    "grid_params['mlp__activation'] = activations\n",
    "grid_params['mlp__solver'] = solvers\n",
    "grid_params['mlp__max_iter'] = max_iters\n",
    "grid_params['mlp__learning_rate'] = learning_rates\n",
    "grid_params['mlp__alpha'] = alphas\n",
    "\n",
    "preds_micro, ttime_micro, best_micro = grid_eval(X_train, X_test, y_train, y_test, steps, grid_params, 'f1_micro')\n",
    "\n",
    "preds_macro, ttime_macro, best_macro = grid_eval(X_train, X_test, y_train, y_test, steps, grid_params, 'f1_macro')\n",
    "\n"
   ]
  },
  {
   "cell_type": "code",
   "execution_count": 0,
   "metadata": {
    "colab": {},
    "colab_type": "code",
    "id": "7jHahdIsCdSV"
   },
   "outputs": [],
   "source": [
    "mlp_f1_micro_opt = f1_score(y_test, preds_micro, average=\"micro\")\n",
    "mlp_f1_macro_opt = f1_score(y_test, preds_macro, average=\"macro\")"
   ]
  },
  {
   "cell_type": "code",
   "execution_count": 0,
   "metadata": {
    "colab": {
     "base_uri": "https://localhost:8080/",
     "height": 611
    },
    "colab_type": "code",
    "id": "R9kpYicJHslu",
    "outputId": "9d32041e-b150-4737-efca-b5f286863f10"
   },
   "outputs": [
    {
     "name": "stdout",
     "output_type": "stream",
     "text": [
      "MLP classifier without preprocessing\n",
      "F1 micro: 0.955306\n",
      "Time of fit and predict: 1976.779135\n",
      "Best model in maximizing f1-micro\n",
      "Pipeline(memory='tmp',\n",
      "         steps=[('mlp',\n",
      "                 MLPClassifier(activation='logistic', alpha=0.001,\n",
      "                               batch_size='auto', beta_1=0.9, beta_2=0.999,\n",
      "                               early_stopping=False, epsilon=1e-08,\n",
      "                               hidden_layer_sizes=8, learning_rate='adaptive',\n",
      "                               learning_rate_init=0.001, max_iter=100,\n",
      "                               momentum=0.9, n_iter_no_change=10,\n",
      "                               nesterovs_momentum=True, power_t=0.5,\n",
      "                               random_state=None, shuffle=True, solver='adam',\n",
      "                               tol=0.0001, validation_fraction=0.1,\n",
      "                               verbose=False, warm_start=False))],\n",
      "         verbose=False)\n",
      "F1 macro: 0.494373\n",
      "Time of fit and predict: 1994.264817\n",
      "Best model in maximizing f1-macro\n",
      "Pipeline(memory='tmp',\n",
      "         steps=[('mlp',\n",
      "                 MLPClassifier(activation='relu', alpha=0.0001,\n",
      "                               batch_size='auto', beta_1=0.9, beta_2=0.999,\n",
      "                               early_stopping=False, epsilon=1e-08,\n",
      "                               hidden_layer_sizes=8, learning_rate='invscaling',\n",
      "                               learning_rate_init=0.001, max_iter=50,\n",
      "                               momentum=0.9, n_iter_no_change=10,\n",
      "                               nesterovs_momentum=True, power_t=0.5,\n",
      "                               random_state=None, shuffle=True, solver='adam',\n",
      "                               tol=0.0001, validation_fraction=0.1,\n",
      "                               verbose=False, warm_start=False))],\n",
      "         verbose=False)\n"
     ]
    }
   ],
   "source": [
    "print(\"MLP classifier without preprocessing\")\n",
    "\n",
    "print('F1 micro: %f' %mlp_f1_micro_opt)\n",
    "print('Time of fit and predict: %f' %ttime_micro)\n",
    "print('Best model in maximizing f1-micro')\n",
    "print(best_micro)\n",
    "\n",
    "\n",
    "print('F1 macro: %f' %mlp_f1_macro_opt)\n",
    "print('Time of fit and predict: %f' %ttime_macro)\n",
    "print('Best model in maximizing f1-macro')\n",
    "print(best_macro)"
   ]
  },
  {
   "cell_type": "code",
   "execution_count": 0,
   "metadata": {
    "colab": {
     "base_uri": "https://localhost:8080/",
     "height": 1000
    },
    "colab_type": "code",
    "id": "-JDMPtPHykef",
    "outputId": "9a2e5835-43db-4223-da57-ea42c86f4680"
   },
   "outputs": [
    {
     "data": {
      "image/png": "[encoded data removed]",
      "text/plain": [
       "<Figure size 720x720 with 1 Axes>"
      ]
     },
     "metadata": {
      "tags": []
     },
     "output_type": "display_data"
    },
    {
     "data": {
      "image/png": "[encoded data removed]",
      "text/plain": [
       "<Figure size 720x720 with 1 Axes>"
      ]
     },
     "metadata": {
      "tags": []
     },
     "output_type": "display_data"
    }
   ],
   "source": [
    "#Creating a barplot for the F1 micro averages\n",
    "compare_bars(1, mlp_f1_micro_opt, 2, mlp_f1_micro, \"f1 micro score with MLP\", \"f1 micro score\", \\\n",
    "             [1, 2] ,['MLP optimzied', 'MLP'])\n",
    "\n",
    "#Creating a barplot for the F1 macro averages\n",
    "compare_bars(1, mlp_f1_macro_opt, 2, mlp_f1_macro, \"f1 macro score with MLP\", \"f1 macro score\", \\\n",
    "             [1, 2] ,['MLP optimzied', 'MLP'])"
   ]
  },
  {
   "cell_type": "markdown",
   "metadata": {
    "colab_type": "text",
    "id": "gkb2W7Exmfhe"
   },
   "source": [
    "**2. Feature Selector + MLP**"
   ]
  },
  {
   "cell_type": "code",
   "execution_count": 0,
   "metadata": {
    "colab": {},
    "colab_type": "code",
    "id": "yBXQ4fkpXHp6"
   },
   "outputs": [],
   "source": [
    "steps = [('selector', selector), ('mlp', mlp)]\n",
    "grid_params = {}\n",
    "grid_params['selector__threshold'] = vthreshold\n",
    "grid_params['mlp__hidden_layer_sizes'] = hidden_layer_sizes\n",
    "grid_params['mlp__activation'] = activations\n",
    "grid_params['mlp__solver'] = solvers\n",
    "grid_params['mlp__max_iter'] = max_iters\n",
    "grid_params['mlp__learning_rate'] = learning_rates\n",
    "grid_params['mlp__alpha'] = alphas\n",
    "\n",
    "preds_micro, ttime_micro, best_micro = grid_eval(X_train, X_test, y_train, y_test, steps, grid_params, 'f1_micro')\n",
    "\n",
    "preds_macro, ttime_macro, best_macro = grid_eval(X_train, X_test, y_train, y_test, steps, grid_params, 'f1_macro')\n"
   ]
  },
  {
   "cell_type": "code",
   "execution_count": 0,
   "metadata": {
    "colab": {},
    "colab_type": "code",
    "id": "EdNRJF8gBrI4"
   },
   "outputs": [],
   "source": [
    "mlp_f1_micro_opt_sel = f1_score(y_test, preds_micro, average=\"micro\")\n",
    "mlp_f1_macro_opt_sel = f1_score(y_test, preds_macro, average=\"macro\")"
   ]
  },
  {
   "cell_type": "code",
   "execution_count": 0,
   "metadata": {
    "colab": {
     "base_uri": "https://localhost:8080/",
     "height": 647
    },
    "colab_type": "code",
    "id": "H2Os7HTUIdWI",
    "outputId": "5c655c7a-ebaf-4dfa-bb77-608fc4a88d76"
   },
   "outputs": [
    {
     "name": "stdout",
     "output_type": "stream",
     "text": [
      "MLP classifier using Variance Thresholder\n",
      "F1 micro: 0.944402\n",
      "Time of fit and predict: 1253.768752\n",
      "Best model in maximizing f1-micro\n",
      "Pipeline(memory='tmp',\n",
      "         steps=[('selector', VarianceThreshold(threshold=10000000.0)),\n",
      "                ('mlp',\n",
      "                 MLPClassifier(activation='tanh', alpha=0.0001,\n",
      "                               batch_size='auto', beta_1=0.9, beta_2=0.999,\n",
      "                               early_stopping=False, epsilon=1e-08,\n",
      "                               hidden_layer_sizes=8, learning_rate='adaptive',\n",
      "                               learning_rate_init=0.001, max_iter=100,\n",
      "                               momentum=0.9, n_iter_no_change=10,\n",
      "                               nesterovs_momentum=True, power_t=0.5,\n",
      "                               random_state=None, shuffle=True, solver='adam',\n",
      "                               tol=0.0001, validation_fraction=0.1,\n",
      "                               verbose=False, warm_start=False))],\n",
      "         verbose=None)\n",
      "F1 macro: 0.499965\n",
      "Time of fit and predict: 5216.948926\n",
      "Best model in maximizing f1-macro\n",
      "Pipeline(memory='tmp',\n",
      "         steps=[('selector', VarianceThreshold(threshold=0.0)),\n",
      "                ('mlp',\n",
      "                 MLPClassifier(activation='relu', alpha=0.0001,\n",
      "                               batch_size='auto', beta_1=0.9, beta_2=0.999,\n",
      "                               early_stopping=False, epsilon=1e-08,\n",
      "                               hidden_layer_sizes=8, learning_rate='invscaling',\n",
      "                               learning_rate_init=0.001, max_iter=100,\n",
      "                               momentum=0.9, n_iter_no_change=10,\n",
      "                               nesterovs_momentum=True, power_t=0.5,\n",
      "                               random_state=None, shuffle=True, solver='adam',\n",
      "                               tol=0.0001, validation_fraction=0.1,\n",
      "                               verbose=False, warm_start=False))],\n",
      "         verbose=False)\n"
     ]
    }
   ],
   "source": [
    "print(\"MLP classifier using Variance Thresholder\")\n",
    "\n",
    "print('F1 micro: %f' %mlp_f1_micro_opt_sel)\n",
    "print('Time of fit and predict: %f' %ttime_micro)\n",
    "print('Best model in maximizing f1-micro')\n",
    "print(best_micro)\n",
    "\n",
    "\n",
    "print('F1 macro: %f' %mlp_f1_macro_opt_sel)\n",
    "print('Time of fit and predict: %f' %ttime_macro)\n",
    "print('Best model in maximizing f1-macro')\n",
    "print(best_macro)"
   ]
  },
  {
   "cell_type": "code",
   "execution_count": 0,
   "metadata": {
    "colab": {
     "base_uri": "https://localhost:8080/",
     "height": 1000
    },
    "colab_type": "code",
    "id": "JURRoQ5yBqAS",
    "outputId": "4f58cb59-7046-4b6a-c6c9-889cc7e74481"
   },
   "outputs": [
    {
     "data": {
      "image/png": "[encoded data removed]",
      "text/plain": [
       "<Figure size 720x720 with 1 Axes>"
      ]
     },
     "metadata": {
      "tags": []
     },
     "output_type": "display_data"
    },
    {
     "data": {
      "image/png": "[encoded data removed]",
      "text/plain": [
       "<Figure size 720x720 with 1 Axes>"
      ]
     },
     "metadata": {
      "tags": []
     },
     "output_type": "display_data"
    }
   ],
   "source": [
    "#Creating a barplot for the F1 micro averages\n",
    "compare_bars(1, mlp_f1_micro_opt_sel, 2, mlp_f1_micro, \"f1 micro score with MLP\", \"f1 micro score\", \\\n",
    "             [1, 2] ,['MLP optimzied', 'MLP'])\n",
    "\n",
    "#Creating a barplot for the F1 macro averages\n",
    "compare_bars(1, mlp_f1_macro_opt_sel, 2, mlp_f1_macro, \"f1 macro score with MLP\", \"f1 macro score\", \\\n",
    "             [1, 2] ,['MLP optimzied', 'MLP'])"
   ]
  },
  {
   "cell_type": "markdown",
   "metadata": {
    "colab_type": "text",
    "id": "ND3dgWuWo7aZ"
   },
   "source": [
    "**3. Feature selector + Scaler + MLP**"
   ]
  },
  {
   "cell_type": "code",
   "execution_count": 0,
   "metadata": {
    "colab": {},
    "colab_type": "code",
    "id": "EW8aVHTApD13"
   },
   "outputs": [],
   "source": [
    "steps= [('selector', selector), ('scaler', scaler),  ('mlp', mlp)]\n",
    "\n",
    "preds_micro, ttime_micro, best_micro = grid_eval(X_train, X_test, y_train, y_test, steps, grid_params, 'f1_micro')\n",
    "\n",
    "preds_macro, ttime_macro, best_macro = grid_eval(X_train, X_test, y_train, y_test, steps, grid_params, 'f1_macro')\n"
   ]
  },
  {
   "cell_type": "code",
   "execution_count": 0,
   "metadata": {
    "colab": {},
    "colab_type": "code",
    "id": "VICKcaft_yh6"
   },
   "outputs": [],
   "source": [
    "mlp_f1_micro_opt_sel_sc = f1_score(y_test, preds_micro, average=\"micro\")\n",
    "mlp_f1_macro_opt_sel_sc = f1_score(y_test, preds_macro, average=\"macro\")"
   ]
  },
  {
   "cell_type": "code",
   "execution_count": 0,
   "metadata": {
    "colab": {
     "base_uri": "https://localhost:8080/",
     "height": 719
    },
    "colab_type": "code",
    "id": "3XaE3XWxBxn_",
    "outputId": "0096a7f2-0eeb-433e-ace6-419c0a131436"
   },
   "outputs": [
    {
     "name": "stdout",
     "output_type": "stream",
     "text": [
      "MLP classifier using Variance Thresholder and Normalization\n",
      "F1 micro: 0.949854\n",
      "Time of fit and predict: 1311.989875\n",
      "Best model in maximizing f1-micro\n",
      "Pipeline(memory='tmp',\n",
      "         steps=[('selector', VarianceThreshold(threshold=0.0)),\n",
      "                ('scaler',\n",
      "                 StandardScaler(copy=True, with_mean=True, with_std=True)),\n",
      "                ('mlp',\n",
      "                 MLPClassifier(activation='tanh', alpha=0.0001,\n",
      "                               batch_size='auto', beta_1=0.9, beta_2=0.999,\n",
      "                               early_stopping=False, epsilon=1e-08,\n",
      "                               hidden_layer_sizes=8, learning_rate='adaptive',\n",
      "                               learning_rate_init=0.001, max_iter=100,\n",
      "                               momentum=0.9, n_iter_no_change=10,\n",
      "                               nesterovs_momentum=True, power_t=0.5,\n",
      "                               random_state=None, shuffle=True, solver='lbfgs',\n",
      "                               tol=0.0001, validation_fraction=0.1,\n",
      "                               verbose=False, warm_start=False))],\n",
      "         verbose=None)\n",
      "F1 macro: 0.492549\n",
      "Time of fit and predict: 4611.340895\n",
      "Best model in maximizing f1-macro\n",
      "Pipeline(memory='tmp',\n",
      "         steps=[('selector', VarianceThreshold(threshold=0.0)),\n",
      "                ('scaler',\n",
      "                 StandardScaler(copy=True, with_mean=True, with_std=True)),\n",
      "                ('mlp',\n",
      "                 MLPClassifier(activation='tanh', alpha=0.0001,\n",
      "                               batch_size='auto', beta_1=0.9, beta_2=0.999,\n",
      "                               early_stopping=False, epsilon=1e-08,\n",
      "                               hidden_layer_sizes=8, learning_rate='constant',\n",
      "                               learning_rate_init=0.001, max_iter=100,\n",
      "                               momentum=0.9, n_iter_no_change=10,\n",
      "                               nesterovs_momentum=True, power_t=0.5,\n",
      "                               random_state=None, shuffle=True, solver='lbfgs',\n",
      "                               tol=0.0001, validation_fraction=0.1,\n",
      "                               verbose=False, warm_start=False))],\n",
      "         verbose=False)\n"
     ]
    }
   ],
   "source": [
    "print(\"MLP classifier using Variance Thresholder and Normalization\")\n",
    "\n",
    "print('F1 micro: %f' %mlp_f1_micro_opt_sel_sc)\n",
    "print('Time of fit and predict: %f' %ttime_micro)\n",
    "print('Best model in maximizing f1-micro')\n",
    "print(best_micro)\n",
    "\n",
    "\n",
    "print('F1 macro: %f' %mlp_f1_macro_opt_sel_sc)\n",
    "print('Time of fit and predict: %f' %ttime_macro)\n",
    "print('Best model in maximizing f1-macro')\n",
    "print(best_macro)"
   ]
  },
  {
   "cell_type": "code",
   "execution_count": 0,
   "metadata": {
    "colab": {
     "base_uri": "https://localhost:8080/",
     "height": 1000
    },
    "colab_type": "code",
    "id": "sEAT_hUU_4C5",
    "outputId": "75984885-a7ca-48fb-9ae6-112d2263bd69"
   },
   "outputs": [
    {
     "data": {
      "image/png": "[encoded data removed]",
      "text/plain": [
       "<Figure size 720x720 with 1 Axes>"
      ]
     },
     "metadata": {
      "tags": []
     },
     "output_type": "display_data"
    },
    {
     "data": {
      "image/png": "[encoded data removed]",
      "text/plain": [
       "<Figure size 720x720 with 1 Axes>"
      ]
     },
     "metadata": {
      "tags": []
     },
     "output_type": "display_data"
    }
   ],
   "source": [
    "#Creating a barplot for the F1 micro averages\n",
    "compare_bars(1, mlp_f1_micro_opt_sel_sc, 2, mlp_f1_micro, \"f1 micro score with MLP\", \"f1 micro score\", \\\n",
    "             [1, 2] ,['MLP optimzied', 'MLP'])\n",
    "\n",
    "#Creating a barplot for the F1 macro averages\n",
    "compare_bars(1, mlp_f1_macro_opt_sel_sc, 2, mlp_f1_macro, \"f1 macro score with MLP\", \"f1 macro score\", \\\n",
    "             [1, 2] ,['MLP optimzied', 'MLP'])"
   ]
  },
  {
   "cell_type": "markdown",
   "metadata": {
    "colab_type": "text",
    "id": "Ak885fhLYFNI"
   },
   "source": [
    "**4. Feature selector + Scaler + Oversampling + MLP**"
   ]
  },
  {
   "cell_type": "code",
   "execution_count": 0,
   "metadata": {
    "colab": {},
    "colab_type": "code",
    "id": "b0ZBM4bHpKzJ"
   },
   "outputs": [],
   "source": [
    "steps= [('selector', selector), ('scaler', scaler), ('ros', ros),  ('mlp', mlp)]\n",
    "\n",
    "preds_micro, ttime_micro, best_micro = grid_eval(X_train, X_test, y_train, y_test, steps, grid_params, 'f1_micro')\n",
    "\n",
    "preds_macro, ttime_macro, best_macro = grid_eval(X_train, X_test, y_train, y_test, steps, grid_params, 'f1_macro')\n"
   ]
  },
  {
   "cell_type": "code",
   "execution_count": 0,
   "metadata": {
    "colab": {},
    "colab_type": "code",
    "id": "RD6Yef78BCmn"
   },
   "outputs": [],
   "source": [
    "mlp_f1_micro_opt_sel_sc_ros = f1_score(y_test, preds_micro, average=\"micro\")\n",
    "mlp_f1_macro_opt_sel_sc_ros = f1_score(y_test, preds_macro, average=\"macro\")"
   ]
  },
  {
   "cell_type": "code",
   "execution_count": 0,
   "metadata": {
    "colab": {
     "base_uri": "https://localhost:8080/",
     "height": 863
    },
    "colab_type": "code",
    "id": "JSd0I8n2Iv-q",
    "outputId": "11f90acc-2247-48ad-eed6-252eb3dacf23"
   },
   "outputs": [
    {
     "name": "stdout",
     "output_type": "stream",
     "text": [
      "MLP classifier using Variance Thresholder, Normalization and Oversampling\n",
      "F1 micro: 0.048226\n",
      "Time of fit and predict: 11183.376397\n",
      "Best model in maximizing f1-micro\n",
      "Pipeline(memory='tmp',\n",
      "         steps=[('selector', VarianceThreshold(threshold=0.0)),\n",
      "                ('scaler',\n",
      "                 StandardScaler(copy=True, with_mean=True, with_std=True)),\n",
      "                ('ros',\n",
      "                 RandomOverSampler(random_state=None, ratio=None,\n",
      "                                   return_indices=False,\n",
      "                                   sampling_strategy='auto')),\n",
      "                ('mlp',\n",
      "                 MLPClassifier(activation='logistic', alpha=0.0001,\n",
      "                               batch_size='auto', beta_1=0.9, beta_2=0.999,\n",
      "                               early_stopping=False, epsilon=1e-08,\n",
      "                               hidden_layer_sizes=4, learning_rate='invscaling',\n",
      "                               learning_rate_init=0.001, max_iter=50,\n",
      "                               momentum=0.9, n_iter_no_change=10,\n",
      "                               nesterovs_momentum=True, power_t=0.5,\n",
      "                               random_state=None, shuffle=True, solver='sgd',\n",
      "                               tol=0.0001, validation_fraction=0.1,\n",
      "                               verbose=False, warm_start=False))],\n",
      "         verbose=False)\n",
      "F1 macro: 0.462817\n",
      "Time of fit and predict: 11094.631479\n",
      "Best model in maximizing f1-macro\n",
      "Pipeline(memory='tmp',\n",
      "         steps=[('selector', VarianceThreshold(threshold=0.0)),\n",
      "                ('scaler',\n",
      "                 StandardScaler(copy=True, with_mean=True, with_std=True)),\n",
      "                ('ros',\n",
      "                 RandomOverSampler(random_state=None, ratio=None,\n",
      "                                   return_indices=False,\n",
      "                                   sampling_strategy='auto')),\n",
      "                ('mlp',\n",
      "                 MLPClassifier(activation='tanh', alpha=0.0001,\n",
      "                               batch_size='auto', beta_1=0.9, beta_2=0.999,\n",
      "                               early_stopping=False, epsilon=1e-08,\n",
      "                               hidden_layer_sizes=8, learning_rate='adaptive',\n",
      "                               learning_rate_init=0.001, max_iter=100,\n",
      "                               momentum=0.9, n_iter_no_change=10,\n",
      "                               nesterovs_momentum=True, power_t=0.5,\n",
      "                               random_state=None, shuffle=True, solver='adam',\n",
      "                               tol=0.0001, validation_fraction=0.1,\n",
      "                               verbose=False, warm_start=False))],\n",
      "         verbose=False)\n"
     ]
    }
   ],
   "source": [
    "print(\"MLP classifier using Variance Thresholder, Normalization and Oversampling\")\n",
    "\n",
    "print('F1 micro: %f' %mlp_f1_micro_opt_sel_sc_ros)\n",
    "print('Time of fit and predict: %f' %ttime_micro)\n",
    "print('Best model in maximizing f1-micro')\n",
    "print(best_micro)\n",
    "\n",
    "\n",
    "print('F1 macro: %f' %mlp_f1_macro_opt_sel_sc_ros)\n",
    "print('Time of fit and predict: %f' %ttime_macro)\n",
    "print('Best model in maximizing f1-macro')\n",
    "print(best_macro)"
   ]
  },
  {
   "cell_type": "code",
   "execution_count": 0,
   "metadata": {
    "colab": {
     "base_uri": "https://localhost:8080/",
     "height": 1000
    },
    "colab_type": "code",
    "id": "sJFsPz5SBHvy",
    "outputId": "136f2837-38db-4b07-c91e-1e90fd5953e5"
   },
   "outputs": [
    {
     "data": {
      "image/png": "[encoded data removed]",
      "text/plain": [
       "<Figure size 720x720 with 1 Axes>"
      ]
     },
     "metadata": {
      "tags": []
     },
     "output_type": "display_data"
    },
    {
     "data": {
      "image/png": "[encoded data removed]",
      "text/plain": [
       "<Figure size 720x720 with 1 Axes>"
      ]
     },
     "metadata": {
      "tags": []
     },
     "output_type": "display_data"
    }
   ],
   "source": [
    "#Creating a barplot for the F1 micro averages\n",
    "compare_bars(1, mlp_f1_micro_opt_sel_sc_ros, 2, mlp_f1_micro, \"f1 micro score with MLP\", \"f1 micro score\", \\\n",
    "             [1, 2] ,['MLP optimzied', 'MLP'])\n",
    "\n",
    "#Creating a barplot for the F1 macro averages\n",
    "compare_bars(1, mlp_f1_macro_opt_sel_sc_ros, 2, mlp_f1_macro, \"f1 macro score with MLP\", \"f1 macro score\", \\\n",
    "             [1, 2] ,['MLP optimzied', 'MLP'])"
   ]
  },
  {
   "cell_type": "markdown",
   "metadata": {
    "colab_type": "text",
    "id": "0hz8DUzkpLJH"
   },
   "source": [
    "**5. Feature selector + Scaler + PCA + MLP**"
   ]
  },
  {
   "cell_type": "code",
   "execution_count": 0,
   "metadata": {
    "colab": {},
    "colab_type": "code",
    "id": "pZmMqDgfpiBk"
   },
   "outputs": [],
   "source": [
    "steps= [('selector', selector), ('scaler', scaler), ('ros', ros), ('pca', pca), ('mlp', mlp)]\n",
    "\n",
    "grid_params['pca__n_components'] = n_components\n",
    "\n",
    "preds_micro, ttime_micro, best_micro = grid_eval(X_train, X_test, y_train, y_test, steps, grid_params, 'f1_micro')\n",
    "\n",
    "preds_macro, ttime_macro, best_macro = grid_eval(X_train, X_test, y_train, y_test, steps, grid_params, 'f1_macro')\n"
   ]
  },
  {
   "cell_type": "code",
   "execution_count": 0,
   "metadata": {
    "colab": {},
    "colab_type": "code",
    "id": "bSuWSAD2JH3k"
   },
   "outputs": [],
   "source": [
    "mlp_f1_micro_opt_sel_sc_ros_pca = f1_score(y_test, preds_micro, average=\"micro\")\n",
    "mlp_f1_macro_opt_sel_sc_ros_pca = f1_score(y_test, preds_macro, average=\"macro\") "
   ]
  },
  {
   "cell_type": "code",
   "execution_count": 0,
   "metadata": {
    "colab": {
     "base_uri": "https://localhost:8080/",
     "height": 899
    },
    "colab_type": "code",
    "id": "bom10XQDI22n",
    "outputId": "0195e1f3-3ed4-4bbf-edb0-630202919443"
   },
   "outputs": [
    {
     "name": "stdout",
     "output_type": "stream",
     "text": [
      "MLP classifier using Variance Thresholder, Normalization, Oversampling and PCA\n",
      "F1 micro: 0.954922\n",
      "Time of fit and predict: 5961.056648\n",
      "Best model in maximizing f1-micro\n",
      "Pipeline(memory='tmp',\n",
      "         steps=[('selector', VarianceThreshold(threshold=5000000.0)),\n",
      "                ('scaler',\n",
      "                 StandardScaler(copy=True, with_mean=True, with_std=True)),\n",
      "                ('ros',\n",
      "                 RandomOverSampler(random_state=None, ratio=None,\n",
      "                                   return_indices=False,\n",
      "                                   sampling_strategy='auto')),\n",
      "                ('pca',\n",
      "                 PCA(copy=True, iterated_power='auto', n_components=7,\n",
      "                     random_state=None, svd_solver='auto', tol=0.0...\n",
      "                               batch_size='auto', beta_1=0.9, beta_2=0.999,\n",
      "                               early_stopping=False, epsilon=1e-08,\n",
      "                               hidden_layer_sizes=4, learning_rate='invscaling',\n",
      "                               learning_rate_init=0.001, max_iter=50,\n",
      "                               momentum=0.9, n_iter_no_change=10,\n",
      "                               nesterovs_momentum=True, power_t=0.5,\n",
      "                               random_state=None, shuffle=True, solver='sgd',\n",
      "                               tol=0.0001, validation_fraction=0.1,\n",
      "                               verbose=False, warm_start=False))],\n",
      "         verbose=None)\n",
      "F1 macro: 0.433257\n",
      "Time of fit and predict: 6037.248116\n",
      "Best model in maximizing f1-macro\n",
      "Pipeline(memory='tmp',\n",
      "         steps=[('selector', VarianceThreshold(threshold=10000000.0)),\n",
      "                ('scaler',\n",
      "                 StandardScaler(copy=True, with_mean=True, with_std=True)),\n",
      "                ('ros',\n",
      "                 RandomOverSampler(random_state=None, ratio=None,\n",
      "                                   return_indices=False,\n",
      "                                   sampling_strategy='auto')),\n",
      "                ('pca',\n",
      "                 PCA(copy=True, iterated_power='auto', n_components=10,\n",
      "                     random_state=None, svd_solver='auto', tol=0...\n",
      "                               batch_size='auto', beta_1=0.9, beta_2=0.999,\n",
      "                               early_stopping=False, epsilon=1e-08,\n",
      "                               hidden_layer_sizes=4, learning_rate='adaptive',\n",
      "                               learning_rate_init=0.001, max_iter=100,\n",
      "                               momentum=0.9, n_iter_no_change=10,\n",
      "                               nesterovs_momentum=True, power_t=0.5,\n",
      "                               random_state=None, shuffle=True, solver='adam',\n",
      "                               tol=0.0001, validation_fraction=0.1,\n",
      "                               verbose=False, warm_start=False))],\n",
      "         verbose=None)\n"
     ]
    }
   ],
   "source": [
    "print(\"MLP classifier using Variance Thresholder, Normalization, Oversampling and PCA\")\n",
    "\n",
    "print('F1 micro: %f' %mlp_f1_micro_opt_sel_sc_ros_pca)\n",
    "print('Time of fit and predict: %f' %ttime_micro)\n",
    "print('Best model in maximizing f1-micro')\n",
    "print(best_micro)\n",
    "\n",
    "\n",
    "print('F1 macro: %f' %mlp_f1_macro_opt_sel_sc_ros_pca)\n",
    "print('Time of fit and predict: %f' %ttime_macro)\n",
    "print('Best model in maximizing f1-macro')\n",
    "print(best_macro)"
   ]
  },
  {
   "cell_type": "code",
   "execution_count": 0,
   "metadata": {
    "colab": {
     "base_uri": "https://localhost:8080/",
     "height": 1000
    },
    "colab_type": "code",
    "id": "iaecbw-Wcbcs",
    "outputId": "4e7b40f6-cf27-4d77-e587-3178df603713"
   },
   "outputs": [
    {
     "data": {
      "image/png": "[encoded data removed]",
      "text/plain": [
       "<Figure size 720x720 with 1 Axes>"
      ]
     },
     "metadata": {
      "tags": []
     },
     "output_type": "display_data"
    },
    {
     "data": {
      "image/png": "[encoded data removed]",
      "text/plain": [
       "<Figure size 720x720 with 1 Axes>"
      ]
     },
     "metadata": {
      "tags": []
     },
     "output_type": "display_data"
    }
   ],
   "source": [
    "#Creating a barplot for the F1 micro averages\n",
    "compare_bars(1, mlp_f1_micro_opt_sel_sc_ros_pca, 2, mlp_f1_micro, \"f1 micro score with MLP\", \"f1 micro score\", \\\n",
    "             [1, 2] ,['MLP optimzied', 'MLP'])\n",
    "\n",
    "#Creating a barplot for the F1 macro averages\n",
    "compare_bars(1, mlp_f1_macro_opt_sel_sc_ros_pca, 2, mlp_f1_macro, \"f1 macro score with MLP\", \"f1 macro score\", \\\n",
    "             [1, 2] ,['MLP optimzied', 'MLP'])"
   ]
  },
  {
   "cell_type": "markdown",
   "metadata": {
    "colab_type": "text",
    "id": "p1w7J_KPa_kw"
   },
   "source": [
    "# Optimal Models"
   ]
  },
  {
   "cell_type": "markdown",
   "metadata": {
    "colab_type": "text",
    "id": "h-0_srUdbLjv"
   },
   "source": [
    "## Gaussian Naive Bayes classifier"
   ]
  },
  {
   "cell_type": "markdown",
   "metadata": {
    "colab_type": "text",
    "id": "rl1nu_cZbLgx"
   },
   "source": [
    "### F1 - micro"
   ]
  },
  {
   "cell_type": "code",
   "execution_count": 0,
   "metadata": {
    "colab": {
     "base_uri": "https://localhost:8080/",
     "height": 89
    },
    "colab_type": "code",
    "id": "RYuevkB3cD6X",
    "outputId": "4c277727-f4a2-4c5e-b74f-351f7e00a648"
   },
   "outputs": [
    {
     "name": "stdout",
     "output_type": "stream",
     "text": [
      "Metrics in test set\n",
      "Accuracy: 0.952081\n",
      "F1-micro: 0.952081\n",
      "F1-macro: 0.503244\n"
     ]
    }
   ],
   "source": [
    "steps=[('selector', VarianceThreshold(threshold=0)),('scaler', scaler),('ros',ros),('pca', PCA(n_components=5)), ('gnb', gnb)]\n",
    "pipe = Pipeline(steps , memory = 'tmp')\n",
    "pipe.fit(X_train, y_train)\n",
    "preds = pipe.predict(X_test)\n",
    "\n",
    "gnb_mic_test = f1_score(y_test, preds, average=\"micro\")\n",
    "\n",
    "print(\"Metrics in test set\")\n",
    "print('Accuracy: %f' %pipe.score(X_test, y_test))\n",
    "print('F1-micro: %f' %f1_score(y_test, preds, average=\"micro\"))\n",
    "print('F1-macro: %f' %f1_score(y_test, preds, average=\"macro\"))"
   ]
  },
  {
   "cell_type": "markdown",
   "metadata": {
    "colab_type": "text",
    "id": "Pqb3L-ThbLd1"
   },
   "source": [
    "### F1 - macro"
   ]
  },
  {
   "cell_type": "code",
   "execution_count": 0,
   "metadata": {
    "colab": {
     "base_uri": "https://localhost:8080/",
     "height": 89
    },
    "colab_type": "code",
    "id": "B_KjpcbLdHBO",
    "outputId": "b579109a-0d90-4701-d05a-53a55a8b316c"
   },
   "outputs": [
    {
     "name": "stdout",
     "output_type": "stream",
     "text": [
      "Metrics in test set\n",
      "Accuracy: 0.952081\n",
      "F1-micro: 0.952081\n",
      "F1-macro: 0.503244\n"
     ]
    }
   ],
   "source": [
    "steps=[('selector', VarianceThreshold(threshold=0)),('scaler', scaler),('ros',ros),('pca', PCA(n_components=5)), ('gnb', gnb)]\n",
    "pipe = Pipeline(steps , memory = 'tmp')\n",
    "pipe.fit(X_train, y_train)\n",
    "preds = pipe.predict(X_test)\n",
    "\n",
    "gnb_mac_test = f1_score(y_test, preds, average=\"macro\")\n",
    "\n",
    "print(\"Metrics in test set\")\n",
    "print('Accuracy: %f' %pipe.score(X_test, y_test))\n",
    "print('F1-micro: %f' %f1_score(y_test, preds, average=\"micro\"))\n",
    "print('F1-macro: %f' %f1_score(y_test, preds, average=\"macro\"))"
   ]
  },
  {
   "cell_type": "markdown",
   "metadata": {
    "colab_type": "text",
    "id": "VYZoAdRVbLbO"
   },
   "source": [
    "## k-NN classifier"
   ]
  },
  {
   "cell_type": "markdown",
   "metadata": {
    "colab_type": "text",
    "id": "zxslpSibbLZB"
   },
   "source": [
    "### F1 - micro"
   ]
  },
  {
   "cell_type": "code",
   "execution_count": 0,
   "metadata": {
    "colab": {
     "base_uri": "https://localhost:8080/",
     "height": 89
    },
    "colab_type": "code",
    "id": "0zsymx4Bdcrf",
    "outputId": "b9fdceea-20fc-485f-8cb0-9821c372d7d0"
   },
   "outputs": [
    {
     "name": "stdout",
     "output_type": "stream",
     "text": [
      "Metrics in test set\n",
      "Accuracy: 0.955537\n",
      "F1-micro: 0.955537\n",
      "F1-macro: 0.555856\n"
     ]
    }
   ],
   "source": [
    "steps=[('neigh', KNeighborsClassifier(n_neighbors=7, weights='uniform', metric='manhattan'))]\n",
    "pipe = Pipeline(steps , memory = 'tmp')\n",
    "pipe.fit(X_train, y_train)\n",
    "preds = pipe.predict(X_test)\n",
    "\n",
    "knn_mic_test = f1_score(y_test, preds, average=\"micro\")\n",
    "\n",
    "print(\"Metrics in test set\")\n",
    "print('Accuracy: %f' %pipe.score(X_test, y_test))\n",
    "print('F1-micro: %f' %f1_score(y_test, preds, average=\"micro\"))\n",
    "print('F1-macro: %f' %f1_score(y_test, preds, average=\"macro\"))"
   ]
  },
  {
   "cell_type": "markdown",
   "metadata": {
    "colab_type": "text",
    "id": "bj3w0mAPbLWr"
   },
   "source": [
    "### F1 - macro"
   ]
  },
  {
   "cell_type": "code",
   "execution_count": 0,
   "metadata": {
    "colab": {
     "base_uri": "https://localhost:8080/",
     "height": 89
    },
    "colab_type": "code",
    "id": "1b7OtqvReL1p",
    "outputId": "3bd32b98-96e2-4181-9b43-56e4d36322ef"
   },
   "outputs": [
    {
     "name": "stdout",
     "output_type": "stream",
     "text": [
      "Metrics in test set\n",
      "Accuracy: 0.955537\n",
      "F1-micro: 0.955537\n",
      "F1-macro: 0.555856\n"
     ]
    }
   ],
   "source": [
    "steps=[('neigh', KNeighborsClassifier(n_neighbors=7, weights='uniform', metric='manhattan'))]\n",
    "pipe = Pipeline(steps , memory = 'tmp')\n",
    "pipe.fit(X_train, y_train)\n",
    "preds = pipe.predict(X_test)\n",
    "\n",
    "knn_mac_test = f1_score(y_test, preds, average=\"macro\")\n",
    "\n",
    "print(\"Metrics in test set\")\n",
    "print('Accuracy: %f' %pipe.score(X_test, y_test))\n",
    "print('F1-micro: %f' %f1_score(y_test, preds, average=\"micro\"))\n",
    "print('F1-macro: %f' %f1_score(y_test, preds, average=\"macro\"))"
   ]
  },
  {
   "cell_type": "markdown",
   "metadata": {
    "colab_type": "text",
    "id": "031Y8K8EbLSf"
   },
   "source": [
    "## MLP classifier"
   ]
  },
  {
   "cell_type": "markdown",
   "metadata": {
    "colab_type": "text",
    "id": "F-llI7JibLQp"
   },
   "source": [
    "### F1 - micro"
   ]
  },
  {
   "cell_type": "code",
   "execution_count": 0,
   "metadata": {
    "colab": {
     "base_uri": "https://localhost:8080/",
     "height": 89
    },
    "colab_type": "code",
    "id": "xO2WW2J6ea8L",
    "outputId": "9fffd757-0572-48da-8642-3b55bcbcda35"
   },
   "outputs": [
    {
     "name": "stdout",
     "output_type": "stream",
     "text": [
      "Metrics in test set\n",
      "Accuracy: 0.955614\n",
      "F1-micro: 0.955614\n",
      "F1-macro: 0.506975\n"
     ]
    }
   ],
   "source": [
    "steps=[('mlp', MLPClassifier(hidden_layer_sizes=8, activation='logistic', solver='adam', alpha=0.001, learning_rate='adaptive', max_iter=100 ))]\n",
    "pipe = Pipeline(steps , memory = 'tmp')\n",
    "pipe.fit(X_train, y_train)\n",
    "preds = pipe.predict(X_test)\n",
    "\n",
    "mlp_mic_test = f1_score(y_test, preds, average=\"micro\")\n",
    "\n",
    "print(\"Metrics in test set\")\n",
    "print('Accuracy: %f' %pipe.score(X_test, y_test))\n",
    "print('F1-micro: %f' %f1_score(y_test, preds, average=\"micro\"))\n",
    "print('F1-macro: %f' %f1_score(y_test, preds, average=\"macro\"))"
   ]
  },
  {
   "cell_type": "markdown",
   "metadata": {
    "colab_type": "text",
    "id": "0LMSYwUibLOw"
   },
   "source": [
    "### F1 - macro"
   ]
  },
  {
   "cell_type": "code",
   "execution_count": 0,
   "metadata": {
    "colab": {
     "base_uri": "https://localhost:8080/",
     "height": 89
    },
    "colab_type": "code",
    "id": "ywWtfaLkebjI",
    "outputId": "70df7099-7146-40c4-b581-bca7d544780c"
   },
   "outputs": [
    {
     "name": "stdout",
     "output_type": "stream",
     "text": [
      "Metrics in test set\n",
      "Accuracy: 0.954999\n",
      "F1-micro: 0.954999\n",
      "F1-macro: 0.488491\n"
     ]
    }
   ],
   "source": [
    "steps=[('threshold', VarianceThreshold(0)), ('mlp', MLPClassifier(hidden_layer_sizes=8, activation='logistic', solver='adam', alpha=0.001, learning_rate='adaptive', max_iter=100 ))]\n",
    "pipe = Pipeline(steps , memory = 'tmp')\n",
    "pipe.fit(X_train, y_train)\n",
    "preds = pipe.predict(X_test)\n",
    "\n",
    "mlp_mac_test = f1_score(y_test, preds, average=\"macro\")\n",
    "\n",
    "print(\"Metrics in test set\")\n",
    "print('Accuracy: %f' %pipe.score(X_test, y_test))\n",
    "print('F1-micro: %f' %f1_score(y_test, preds, average=\"micro\"))\n",
    "print('F1-macro: %f' %f1_score(y_test, preds, average=\"macro\"))"
   ]
  },
  {
   "cell_type": "markdown",
   "metadata": {
    "colab_type": "text",
    "id": "Sr3iCkHhjUSG"
   },
   "source": [
    "### Barplot"
   ]
  },
  {
   "cell_type": "code",
   "execution_count": 0,
   "metadata": {
    "colab": {
     "base_uri": "https://localhost:8080/",
     "height": 621
    },
    "colab_type": "code",
    "id": "vRASqtuqjK74",
    "outputId": "ad1ef524-d12f-4504-cb61-9ad5e7d2a2a7"
   },
   "outputs": [
    {
     "data": {
      "image/png": "[encoded data removed]",
      "text/plain": [
       "<Figure size 720x720 with 1 Axes>"
      ]
     },
     "metadata": {
      "tags": []
     },
     "output_type": "display_data"
    }
   ],
   "source": [
    "bars = plt.bar([1, 2, 3], [gnb_mic_test, knn_mic_test, mlp_mic_test], width=0.4)\n",
    "plt.title(\"Optimized classifiers in F1-micro\")\n",
    "plt.ylabel('F1-micro' , color='w')\n",
    "plt.xlabel(\"Strategy\", color='w')\n",
    "plt.xticks([1, 2, 3], ['Gaussian', 'k-NN', 'MLP'])\n",
    "\n",
    "plt.show()"
   ]
  },
  {
   "cell_type": "code",
   "execution_count": 0,
   "metadata": {
    "colab": {
     "base_uri": "https://localhost:8080/",
     "height": 621
    },
    "colab_type": "code",
    "id": "IXomWvYMjxXY",
    "outputId": "3b2b7953-d0f3-4222-a0fc-386b1aed8a7a"
   },
   "outputs": [
    {
     "data": {
      "image/png": "[encoded data removed]",
      "text/plain": [
       "<Figure size 720x720 with 1 Axes>"
      ]
     },
     "metadata": {
      "tags": []
     },
     "output_type": "display_data"
    }
   ],
   "source": [
    "bars = plt.bar([1, 2, 3], [gnb_mac_test, knn_mac_test, mlp_mac_test], width=0.4)\n",
    "plt.title(\"Optimized classifiers in F1-macro\")\n",
    "plt.ylabel('F1-macro' , color='w')\n",
    "plt.xlabel(\"Strategy\", color='w')\n",
    "plt.xticks([1, 2, 3], ['Gaussian', 'k-NN', 'MLP'])\n",
    "\n",
    "plt.show()"
   ]
  },
  {
   "cell_type": "markdown",
   "metadata": {
    "colab_type": "text",
    "id": "4WI_IMookJ-V"
   },
   "source": [
    "## Project questions"
   ]
  },
  {
   "cell_type": "markdown",
   "metadata": {
    "colab_type": "text",
    "id": "J_Xub_IPkY7b"
   },
   "source": [
    "1. See the subsections of [Dummy classifiers](#scrollTo=BItGO00xGXtM),[Gaussian](#scrollTo=pxbmm48PT6ni), [k Nearest Neighbors](##scrollTo=0myqUAVjVpPR) and [MLP](#scrollTo=tApSKMjgVsy1).\n",
    "\n",
    "2. See [Optimal Models](#scrollTo=p1w7J_KPa_kw).\n",
    "\n",
    "3. See [Barplots](#scrollTo=Sr3iCkHhjUSG).\n"
   ]
  },
  {
   "cell_type": "markdown",
   "metadata": {
    "colab_type": "text",
    "id": "9MKPZnacpB11"
   },
   "source": [
    "4.\n",
    "\n",
    "|              Model             | Baseline f1 micro score | Optimized f1 micro score | Baseline f1 macro score | Optimized f1 macro score |\n",
    "|:------------------------------:|:-----------------------:|:------------------------:|:-----------------------:|:------------------------:|\n",
    "|    Uniform dummy classifier    |         0.499770        |         0.498848         |         0.369006        |         0.372135         |\n",
    "|   Constant 0 dummy classifier  |         0.955306        |         0.954999         |         0.488571        |         0.488491         |\n",
    "|   Constant 1 dummy classifier  |         0.044694        |         0.045001         |         0.042782        |         0.043063         |\n",
    "| Most frequent dummy classifier |         0.955306        |         0.954999         |         0.488571        |         0.488491         |\n",
    "|   Stratified dummy classifier  |         0.911381        |         0.500538         |         0.506879        |         0.371303         |\n",
    "|     Gaussian   |        0.072        |         0.95        |         0.075        |         0.50        |\n",
    "|   k-NN  |         0.94        |         0.96        |         0.55        |         0.56         |\n",
    "|   MLP  |         0.95       |         0.95         |         0.48       |         0.49         |\n",
    "\n",
    "\n",
    "\n",
    "\n"
   ]
  },
  {
   "cell_type": "markdown",
   "metadata": {
    "colab_type": "text",
    "id": "1YSqq10_rIAm"
   },
   "source": [
    "5. As we can see in the table above, the most improved performance by the optimization is that of the kNN classifiers. Both kNN optimized for micro f1 score and kNN optimized for macro f1 score perform very well (in comparison with the baseline classification) on our test set. Thy hyperparameters we set (weights and distance) helped the model to improve its metrics.\n",
    "\n",
    "  In general, f1-macro is very low because of the imbalance of the dataset. Even by using overampling, we did not manage to improve f1-macro a lot. This happened because we want more diverse data from companies that bankrupted (class 1).\n",
    "\n",
    "  As for the MLP classifiers, they did not manage to achieve higher metrics than the k-nn. This might be due to the fact that they have a lot of hyperparameters and we may not tune them well.\n",
    "\n",
    "  The Gaussian classifier without preprocessing is the worst classifier, because of its assumption that the features are normally distributed. However, after applying both the 4 preprocessing steps, Gaussian is as good as the other classifiers.\n",
    "\n",
    "  Finally, the most valuable preprocessing step was the variance thresholder with small variance. Other steps such as PCA and normalization did not increase the metrics of the models (in general they help the model train faster)."
   ]
  }
 ],
 "metadata": {
  "colab": {
   "collapsed_sections": [],
   "name": "big-dataset.ipynb",
   "provenance": [],
   "toc_visible": true
  },
  "kernelspec": {
   "display_name": "Python 3",
   "language": "python",
   "name": "python3"
  },
  "language_info": {
   "codemirror_mode": {
    "name": "ipython",
    "version": 3
   },
   "file_extension": ".py",
   "mimetype": "text/x-python",
   "name": "python",
   "nbconvert_exporter": "python",
   "pygments_lexer": "ipython3",
   "version": "3.7.3"
  }
 },
 "nbformat": 4,
 "nbformat_minor": 1
}
